{
 "cells": [
  {
   "cell_type": "code",
   "execution_count": 1,
   "metadata": {},
   "outputs": [],
   "source": [
    "import pandas as pd \n",
    "import numpy as np\n",
    "import seaborn as sns\n",
    "import math\n",
    "from matplotlib.ticker import AutoMinorLocator,FormatStrFormatter\n",
    "import matplotlib.pyplot as plt\n",
    "from matplotlib import style\n",
    "from matplotlib.widgets import Cursor,Button\n",
    "\n",
    "\n",
    "style.use('ggplot')\n",
    "\n",
    "# %matplotlib inline"
   ]
  },
  {
   "cell_type": "code",
   "execution_count": 4,
   "metadata": {},
   "outputs": [
    {
     "name": "stdout",
     "output_type": "stream",
     "text": [
      "Collecting Ipympl\n",
      "  Downloading ipympl-0.5.7-py2.py3-none-any.whl (463 kB)\n",
      "\u001b[K     |████████████████████████████████| 463 kB 186 kB/s eta 0:00:01\n",
      "\u001b[?25hRequirement already satisfied: ipykernel>=4.7 in /home/philip-kio/anaconda3/lib/python3.7/site-packages (from Ipympl) (5.1.4)\n",
      "Requirement already satisfied: ipywidgets>=7.5.0 in /home/philip-kio/anaconda3/lib/python3.7/site-packages (from Ipympl) (7.5.1)\n",
      "Requirement already satisfied: matplotlib>=2.0.0 in /home/philip-kio/anaconda3/lib/python3.7/site-packages (from Ipympl) (3.1.3)\n",
      "Requirement already satisfied: ipython>=5.0.0 in /home/philip-kio/anaconda3/lib/python3.7/site-packages (from ipykernel>=4.7->Ipympl) (7.12.0)\n",
      "Requirement already satisfied: traitlets>=4.1.0 in /home/philip-kio/anaconda3/lib/python3.7/site-packages (from ipykernel>=4.7->Ipympl) (4.3.3)\n",
      "Requirement already satisfied: jupyter-client in /home/philip-kio/anaconda3/lib/python3.7/site-packages (from ipykernel>=4.7->Ipympl) (5.3.4)\n",
      "Requirement already satisfied: tornado>=4.2 in /home/philip-kio/anaconda3/lib/python3.7/site-packages (from ipykernel>=4.7->Ipympl) (6.0.3)\n",
      "Requirement already satisfied: nbformat>=4.2.0 in /home/philip-kio/anaconda3/lib/python3.7/site-packages (from ipywidgets>=7.5.0->Ipympl) (5.0.4)\n",
      "Requirement already satisfied: widgetsnbextension~=3.5.0 in /home/philip-kio/anaconda3/lib/python3.7/site-packages (from ipywidgets>=7.5.0->Ipympl) (3.5.1)\n",
      "Requirement already satisfied: pyparsing!=2.0.4,!=2.1.2,!=2.1.6,>=2.0.1 in /home/philip-kio/anaconda3/lib/python3.7/site-packages (from matplotlib>=2.0.0->Ipympl) (2.4.6)\n",
      "Requirement already satisfied: python-dateutil>=2.1 in /home/philip-kio/anaconda3/lib/python3.7/site-packages (from matplotlib>=2.0.0->Ipympl) (2.8.1)\n",
      "Requirement already satisfied: numpy>=1.11 in /home/philip-kio/anaconda3/lib/python3.7/site-packages (from matplotlib>=2.0.0->Ipympl) (1.18.1)\n",
      "Requirement already satisfied: cycler>=0.10 in /home/philip-kio/anaconda3/lib/python3.7/site-packages (from matplotlib>=2.0.0->Ipympl) (0.10.0)\n",
      "Requirement already satisfied: kiwisolver>=1.0.1 in /home/philip-kio/anaconda3/lib/python3.7/site-packages (from matplotlib>=2.0.0->Ipympl) (1.1.0)\n",
      "Requirement already satisfied: pygments in /home/philip-kio/anaconda3/lib/python3.7/site-packages (from ipython>=5.0.0->ipykernel>=4.7->Ipympl) (2.5.2)\n",
      "Requirement already satisfied: prompt-toolkit!=3.0.0,!=3.0.1,<3.1.0,>=2.0.0 in /home/philip-kio/anaconda3/lib/python3.7/site-packages (from ipython>=5.0.0->ipykernel>=4.7->Ipympl) (3.0.3)\n",
      "Requirement already satisfied: pexpect; sys_platform != \"win32\" in /home/philip-kio/anaconda3/lib/python3.7/site-packages (from ipython>=5.0.0->ipykernel>=4.7->Ipympl) (4.8.0)\n",
      "Requirement already satisfied: jedi>=0.10 in /home/philip-kio/anaconda3/lib/python3.7/site-packages (from ipython>=5.0.0->ipykernel>=4.7->Ipympl) (0.14.1)\n",
      "Requirement already satisfied: backcall in /home/philip-kio/anaconda3/lib/python3.7/site-packages (from ipython>=5.0.0->ipykernel>=4.7->Ipympl) (0.1.0)\n",
      "Requirement already satisfied: decorator in /home/philip-kio/anaconda3/lib/python3.7/site-packages (from ipython>=5.0.0->ipykernel>=4.7->Ipympl) (4.4.1)\n",
      "Requirement already satisfied: pickleshare in /home/philip-kio/anaconda3/lib/python3.7/site-packages (from ipython>=5.0.0->ipykernel>=4.7->Ipympl) (0.7.5)\n",
      "Requirement already satisfied: setuptools>=18.5 in /home/philip-kio/anaconda3/lib/python3.7/site-packages (from ipython>=5.0.0->ipykernel>=4.7->Ipympl) (45.2.0.post20200210)\n",
      "Requirement already satisfied: six in /home/philip-kio/anaconda3/lib/python3.7/site-packages (from traitlets>=4.1.0->ipykernel>=4.7->Ipympl) (1.14.0)\n",
      "Requirement already satisfied: ipython-genutils in /home/philip-kio/anaconda3/lib/python3.7/site-packages (from traitlets>=4.1.0->ipykernel>=4.7->Ipympl) (0.2.0)\n",
      "Requirement already satisfied: jupyter-core>=4.6.0 in /home/philip-kio/anaconda3/lib/python3.7/site-packages (from jupyter-client->ipykernel>=4.7->Ipympl) (4.6.1)\n",
      "Requirement already satisfied: pyzmq>=13 in /home/philip-kio/anaconda3/lib/python3.7/site-packages (from jupyter-client->ipykernel>=4.7->Ipympl) (18.1.1)\n",
      "Requirement already satisfied: jsonschema!=2.5.0,>=2.4 in /home/philip-kio/anaconda3/lib/python3.7/site-packages (from nbformat>=4.2.0->ipywidgets>=7.5.0->Ipympl) (3.2.0)\n",
      "Requirement already satisfied: notebook>=4.4.1 in /home/philip-kio/anaconda3/lib/python3.7/site-packages (from widgetsnbextension~=3.5.0->ipywidgets>=7.5.0->Ipympl) (6.0.3)\n",
      "Requirement already satisfied: wcwidth in /home/philip-kio/anaconda3/lib/python3.7/site-packages (from prompt-toolkit!=3.0.0,!=3.0.1,<3.1.0,>=2.0.0->ipython>=5.0.0->ipykernel>=4.7->Ipympl) (0.1.8)\n",
      "Requirement already satisfied: ptyprocess>=0.5 in /home/philip-kio/anaconda3/lib/python3.7/site-packages (from pexpect; sys_platform != \"win32\"->ipython>=5.0.0->ipykernel>=4.7->Ipympl) (0.6.0)\n",
      "Requirement already satisfied: parso>=0.5.0 in /home/philip-kio/anaconda3/lib/python3.7/site-packages (from jedi>=0.10->ipython>=5.0.0->ipykernel>=4.7->Ipympl) (0.5.2)\n",
      "Requirement already satisfied: importlib-metadata; python_version < \"3.8\" in /home/philip-kio/anaconda3/lib/python3.7/site-packages (from jsonschema!=2.5.0,>=2.4->nbformat>=4.2.0->ipywidgets>=7.5.0->Ipympl) (1.5.0)\n",
      "Requirement already satisfied: attrs>=17.4.0 in /home/philip-kio/anaconda3/lib/python3.7/site-packages (from jsonschema!=2.5.0,>=2.4->nbformat>=4.2.0->ipywidgets>=7.5.0->Ipympl) (19.3.0)\n",
      "Requirement already satisfied: pyrsistent>=0.14.0 in /home/philip-kio/anaconda3/lib/python3.7/site-packages (from jsonschema!=2.5.0,>=2.4->nbformat>=4.2.0->ipywidgets>=7.5.0->Ipympl) (0.15.7)\n",
      "Requirement already satisfied: terminado>=0.8.1 in /home/philip-kio/anaconda3/lib/python3.7/site-packages (from notebook>=4.4.1->widgetsnbextension~=3.5.0->ipywidgets>=7.5.0->Ipympl) (0.8.3)\n",
      "Requirement already satisfied: jinja2 in /home/philip-kio/anaconda3/lib/python3.7/site-packages (from notebook>=4.4.1->widgetsnbextension~=3.5.0->ipywidgets>=7.5.0->Ipympl) (2.11.1)\n",
      "Requirement already satisfied: prometheus-client in /home/philip-kio/anaconda3/lib/python3.7/site-packages (from notebook>=4.4.1->widgetsnbextension~=3.5.0->ipywidgets>=7.5.0->Ipympl) (0.7.1)\n",
      "Requirement already satisfied: nbconvert in /home/philip-kio/anaconda3/lib/python3.7/site-packages (from notebook>=4.4.1->widgetsnbextension~=3.5.0->ipywidgets>=7.5.0->Ipympl) (5.6.1)\n",
      "Requirement already satisfied: Send2Trash in /home/philip-kio/anaconda3/lib/python3.7/site-packages (from notebook>=4.4.1->widgetsnbextension~=3.5.0->ipywidgets>=7.5.0->Ipympl) (1.5.0)\n",
      "Requirement already satisfied: zipp>=0.5 in /home/philip-kio/anaconda3/lib/python3.7/site-packages (from importlib-metadata; python_version < \"3.8\"->jsonschema!=2.5.0,>=2.4->nbformat>=4.2.0->ipywidgets>=7.5.0->Ipympl) (2.2.0)\n",
      "Requirement already satisfied: MarkupSafe>=0.23 in /home/philip-kio/anaconda3/lib/python3.7/site-packages (from jinja2->notebook>=4.4.1->widgetsnbextension~=3.5.0->ipywidgets>=7.5.0->Ipympl) (1.1.1)\n",
      "Requirement already satisfied: entrypoints>=0.2.2 in /home/philip-kio/anaconda3/lib/python3.7/site-packages (from nbconvert->notebook>=4.4.1->widgetsnbextension~=3.5.0->ipywidgets>=7.5.0->Ipympl) (0.3)\n",
      "Requirement already satisfied: testpath in /home/philip-kio/anaconda3/lib/python3.7/site-packages (from nbconvert->notebook>=4.4.1->widgetsnbextension~=3.5.0->ipywidgets>=7.5.0->Ipympl) (0.4.4)\n",
      "Requirement already satisfied: pandocfilters>=1.4.1 in /home/philip-kio/anaconda3/lib/python3.7/site-packages (from nbconvert->notebook>=4.4.1->widgetsnbextension~=3.5.0->ipywidgets>=7.5.0->Ipympl) (1.4.2)\n",
      "Requirement already satisfied: mistune<2,>=0.8.1 in /home/philip-kio/anaconda3/lib/python3.7/site-packages (from nbconvert->notebook>=4.4.1->widgetsnbextension~=3.5.0->ipywidgets>=7.5.0->Ipympl) (0.8.4)\n",
      "Requirement already satisfied: bleach in /home/philip-kio/anaconda3/lib/python3.7/site-packages (from nbconvert->notebook>=4.4.1->widgetsnbextension~=3.5.0->ipywidgets>=7.5.0->Ipympl) (3.1.0)\n",
      "Requirement already satisfied: defusedxml in /home/philip-kio/anaconda3/lib/python3.7/site-packages (from nbconvert->notebook>=4.4.1->widgetsnbextension~=3.5.0->ipywidgets>=7.5.0->Ipympl) (0.6.0)\n",
      "Requirement already satisfied: webencodings in /home/philip-kio/anaconda3/lib/python3.7/site-packages (from bleach->nbconvert->notebook>=4.4.1->widgetsnbextension~=3.5.0->ipywidgets>=7.5.0->Ipympl) (0.5.1)\n"
     ]
    },
    {
     "name": "stdout",
     "output_type": "stream",
     "text": [
      "Installing collected packages: Ipympl\n",
      "Successfully installed Ipympl-0.5.7\n"
     ]
    }
   ],
   "source": [
    "!pip install Ipympl"
   ]
  },
  {
   "cell_type": "markdown",
   "metadata": {},
   "source": [
    "## Functions to convert data"
   ]
  },
  {
   "cell_type": "code",
   "execution_count": null,
   "metadata": {},
   "outputs": [],
   "source": []
  },
  {
   "cell_type": "code",
   "execution_count": 18,
   "metadata": {},
   "outputs": [],
   "source": [
    "def mm_to_phi(d):\n",
    "    \"\"\"this function converts an array/list of grain seive sizes in mm to phi scale and returns the phi reading for sedimentological analysis\"\"\"\n",
    "   \n",
    "    phi=[round(-(math.log2(i)/math.log2(2)),2) for i in d]\n",
    "#     for i in d:\n",
    "#         phi.append(round(-(math.log2(i)/math.log2(2)),2))\n",
    "    \n",
    "    return phi"
   ]
  },
  {
   "cell_type": "code",
   "execution_count": 25,
   "metadata": {},
   "outputs": [],
   "source": [
    "def bed_to_100(x):\n",
    "        \"\"\"This is used to scale beds that are less than 100 in total weight to 100\"\"\"\n",
    "        total=sum(x)\n",
    "        bed =[round(((i/total) *100),2) for i in x]\n",
    "    \n",
    "        #     for i in x:\n",
    "        #         bed.append(round(((i/total) *100),2))\n",
    "        return bed"
   ]
  },
  {
   "cell_type": "code",
   "execution_count": 19,
   "metadata": {},
   "outputs": [],
   "source": [
    "def cummulate_bed(bed):\n",
    "    \"\"\"this function returns the cummulative score of an array (0-100)\"\"\"\n",
    "    from itertools import accumulate\n",
    "   \n",
    "    \n",
    "    \n",
    "    cum_bed=list(accumulate(bed))\n",
    "    cum_beds=[round(i,2) for i in cum_bed]\n",
    "#     for i in cum_bed:\n",
    "#         cum_beds.append()\n",
    "    return cum_beds"
   ]
  },
  {
   "cell_type": "code",
   "execution_count": 20,
   "metadata": {},
   "outputs": [],
   "source": [
    "def percentiles(bed_data):\n",
    "    \"\"\"\n",
    "    This get the percentile for the data passed. \n",
    "    it returns  a dataframe of the percentage passing,percentile of the data\n",
    "    and the bed_data.\n",
    "    \"\"\"\n",
    "    sedi_passing=[5,16,25,50,75,84,95,100]\n",
    "   \n",
    "    bed=bed_data\n",
    "       \n",
    "    sed_passing=[str(i)+ '%' for i in sedi_passing ]\n",
    "    \n",
    "    \n",
    "#     for i in sedi_passing:\n",
    "#         sed_percentile.append(round(np.percentile(bed_data,i),2))\n",
    "    \n",
    "#     sedi_passing=[5,25,50,75,84,95]\n",
    "#     for i in sedi_passing:\n",
    "        \n",
    "#         sed_passing.append(x +'%')\n",
    "    percentiles= dict(zip(sed_passing,bed))\n",
    "   \n",
    "    return sed_passing,percentiles"
   ]
  },
  {
   "cell_type": "code",
   "execution_count": 26,
   "metadata": {},
   "outputs": [],
   "source": [
    "gr_sieve_size= np.array([2,1.18,.85,.425,.300,.150,.075,.063],dtype='float64')\n",
    "phi=mm_to_phi(gr_sieve_size)\n",
    "\n"
   ]
  },
  {
   "cell_type": "code",
   "execution_count": 6,
   "metadata": {},
   "outputs": [],
   "source": [
    "#The Object \n",
    "\n",
    "class GrainPreprocess():\n",
    "    def __init__(self):\n",
    "        pass\n",
    "    \n",
    "    def mm_to_phi(d):\n",
    "#         self.d = d\n",
    "        phi=[round(-(math.log2(i)/math.log2(2)),2) for i in d]\n",
    "        \n",
    "        \"\"\"this function converts an array/list of grain seive sizes in mm to phi scale \n",
    "        and returns the phi reading for sedimentological analysis\"\"\"\n",
    "        return phi\n",
    "    \n",
    "    def bed_to_100(x):\n",
    "        \"\"\"This is used to scale beds that are less than 100 in total weight to 100\"\"\"\n",
    "        total=sum(x)\n",
    "        bed =[round(((i/total) *100),2) for i in x]\n",
    "    \n",
    "        #     for i in x:\n",
    "        #         bed.append(round(((i/total) *100),2))\n",
    "        return bed\n",
    "    \n",
    "    \n",
    "    def cummulate_bed(bed):\n",
    "        \"\"\"this function returns the cummulative score of an array (0-100)\"\"\"\n",
    "        from itertools import accumulate\n",
    "   \n",
    "    \n",
    "    \n",
    "        cum_bed=list(accumulate(bed))\n",
    "        cum_beds=[round(i,2) for i in cum_bed]\n",
    "\n",
    "        return cum_beds\n",
    "\n",
    "\n",
    "\n",
    "\n",
    "    def percentiles(bed_data):\n",
    "        \"\"\"This get the percentile for the data passed. \n",
    "        it returns  a dataframe of the percentage passing,percentile of the data\n",
    "        and the bed_data.\n",
    "        \"\"\"\n",
    "        sedi_passing=[5,16,25,50,75,84,95,100]\n",
    "   \n",
    "        bed=bed_data\n",
    "       \n",
    "        sed_passing=[str(i)+ '%' for i in sedi_passing]\n",
    "        percentiles= dict(zip(sed_passing,bed))\n",
    "   \n",
    "        return percentiles\n",
    "        \n",
    "\n",
    "GrainPreprocess= GrainPreprocess"
   ]
  },
  {
   "cell_type": "markdown",
   "metadata": {},
   "source": [
    "## Testing out the class"
   ]
  },
  {
   "cell_type": "code",
   "execution_count": null,
   "metadata": {},
   "outputs": [],
   "source": []
  },
  {
   "cell_type": "code",
   "execution_count": 7,
   "metadata": {},
   "outputs": [
    {
     "data": {
      "text/plain": [
       "[-1.0, -0.24, 0.23, 1.23, 1.74, 2.74, 3.74, 3.99]"
      ]
     },
     "execution_count": 7,
     "metadata": {},
     "output_type": "execute_result"
    }
   ],
   "source": [
    "GrainPreprocess.mm_to_phi(gr_sieve_size)"
   ]
  },
  {
   "cell_type": "code",
   "execution_count": 11,
   "metadata": {},
   "outputs": [],
   "source": [
    "ut_bed_A=GrainPreprocess.bed_to_100(bed_A)"
   ]
  },
  {
   "cell_type": "code",
   "execution_count": 12,
   "metadata": {},
   "outputs": [],
   "source": [
    "ut_cum_bed_A = GrainPreprocess.cummulate_bed(ut_bed_A)"
   ]
  },
  {
   "cell_type": "code",
   "execution_count": 13,
   "metadata": {},
   "outputs": [],
   "source": [
    "ut_per_bed_A = GrainPreprocess.percentiles(ut_cum_bed_A)"
   ]
  },
  {
   "cell_type": "code",
   "execution_count": 14,
   "metadata": {},
   "outputs": [
    {
     "data": {
      "text/plain": [
       "{'5%': 2.64,\n",
       " '16%': 15.22,\n",
       " '25%': 32.87,\n",
       " '50%': 74.55,\n",
       " '75%': 84.59,\n",
       " '84%': 94.73,\n",
       " '95%': 98.99,\n",
       " '100%': 100.0}"
      ]
     },
     "execution_count": 14,
     "metadata": {},
     "output_type": "execute_result"
    }
   ],
   "source": [
    "ut_per_bed_A"
   ]
  },
  {
   "cell_type": "code",
   "execution_count": null,
   "metadata": {},
   "outputs": [],
   "source": []
  },
  {
   "cell_type": "code",
   "execution_count": null,
   "metadata": {},
   "outputs": [],
   "source": []
  },
  {
   "cell_type": "code",
   "execution_count": null,
   "metadata": {},
   "outputs": [],
   "source": []
  },
  {
   "cell_type": "code",
   "execution_count": null,
   "metadata": {},
   "outputs": [],
   "source": []
  },
  {
   "cell_type": "code",
   "execution_count": null,
   "metadata": {},
   "outputs": [],
   "source": []
  },
  {
   "cell_type": "code",
   "execution_count": null,
   "metadata": {},
   "outputs": [],
   "source": []
  },
  {
   "cell_type": "code",
   "execution_count": null,
   "metadata": {},
   "outputs": [],
   "source": []
  },
  {
   "cell_type": "code",
   "execution_count": null,
   "metadata": {},
   "outputs": [],
   "source": []
  },
  {
   "cell_type": "markdown",
   "metadata": {},
   "source": [
    "# Bed Data"
   ]
  },
  {
   "cell_type": "code",
   "execution_count": 24,
   "metadata": {},
   "outputs": [
    {
     "data": {
      "text/plain": [
       "[-1.0, -0.24, 0.23, 1.23, 1.74, 2.74, 3.74, 3.99]"
      ]
     },
     "execution_count": 24,
     "metadata": {},
     "output_type": "execute_result"
    }
   ],
   "source": [
    "phi"
   ]
  },
  {
   "cell_type": "code",
   "execution_count": null,
   "metadata": {},
   "outputs": [],
   "source": []
  },
  {
   "cell_type": "code",
   "execution_count": null,
   "metadata": {},
   "outputs": [],
   "source": []
  },
  {
   "cell_type": "code",
   "execution_count": 22,
   "metadata": {},
   "outputs": [],
   "source": [
    "\n",
    "#Beds for Uturu outcrop\n",
    "\n",
    "bed_A= [2.6,12.4,17.4,41.1,9.9,10,4.2,1]\n",
    "# bed_A=np.array(bed_A)\n",
    "bed_B=[1.6,6.3,11.5,39.4,21.3,14.5,3.4,0.6]\n",
    "\n",
    "bed_D=[7.5,15.4,12.5,28.5,15,15.1,3.6,1.0]\n",
    "\n",
    "bed_E=[0.8,3.5,7.5,37.9,26.3,18.1,3.7,1.1]\n",
    "\n",
    "\n",
    "bed_G=[3.9,9.4,10.4,35.4,23.1,14.2,24,.3]\n",
    "\n",
    "bed_H= [0.6,4.0,8.0,45.9,25.4,11.4,4.4,0.4]"
   ]
  },
  {
   "cell_type": "code",
   "execution_count": 27,
   "metadata": {},
   "outputs": [
    {
     "data": {
      "text/plain": [
       "([2.64, 12.58, 17.65, 41.68, 10.04, 10.14, 4.26, 1.01],\n",
       " [1.62, 6.39, 11.66, 39.96, 21.6, 14.71, 3.45, 0.61],\n",
       " [7.61, 15.62, 12.68, 28.9, 15.21, 15.31, 3.65, 1.01],\n",
       " [0.81, 3.54, 7.58, 38.32, 26.59, 18.3, 3.74, 1.11],\n",
       " [3.23, 7.79, 8.62, 29.33, 19.14, 11.76, 19.88, 0.25],\n",
       " [0.6, 4.0, 7.99, 45.85, 25.37, 11.39, 4.4, 0.4])"
      ]
     },
     "execution_count": 27,
     "metadata": {},
     "output_type": "execute_result"
    }
   ],
   "source": [
    "uturu_bed_A=bed_to_100(bed_A)\n",
    "uturu_bed_B=bed_to_100(bed_B)\n",
    "uturu_bed_D=bed_to_100(bed_D)\n",
    "uturu_bed_E=bed_to_100(bed_E)\n",
    "uturu_bed_G=bed_to_100(bed_G)\n",
    "uturu_bed_H=bed_to_100(bed_H)\n",
    "\n",
    "\n",
    "\n",
    "uturu_bed_A,uturu_bed_B,uturu_bed_D,uturu_bed_E,uturu_bed_G,uturu_bed_H"
   ]
  },
  {
   "cell_type": "code",
   "execution_count": 28,
   "metadata": {},
   "outputs": [],
   "source": [
    "bed_B=[1.6,6.3,11.5,39.4,21.3,14.5,3.4,0.6]\n",
    "uturu_bed_B=bed_to_100(bed_B)"
   ]
  },
  {
   "cell_type": "code",
   "execution_count": 10,
   "metadata": {},
   "outputs": [],
   "source": []
  },
  {
   "cell_type": "code",
   "execution_count": 29,
   "metadata": {},
   "outputs": [
    {
     "data": {
      "text/plain": [
       "[0.81, 4.35, 11.93, 50.25, 76.84, 95.14, 98.88, 99.99]"
      ]
     },
     "execution_count": 29,
     "metadata": {},
     "output_type": "execute_result"
    }
   ],
   "source": [
    "uturu_cum_bed_A=cummulate_bed(uturu_bed_A)\n",
    "uturu_cum_bed_B=cummulate_bed(uturu_bed_B)\n",
    "uturu_cum_bed_D=cummulate_bed(uturu_bed_D)\n",
    "uturu_cum_bed_E=cummulate_bed(uturu_bed_E)\n",
    "uturu_cum_bed_G=cummulate_bed(uturu_bed_G)\n",
    "uturu_cum_bed_H=cummulate_bed(uturu_bed_H)\n",
    "\n",
    "\n",
    "uturu_cum_bed_E"
   ]
  },
  {
   "cell_type": "code",
   "execution_count": null,
   "metadata": {},
   "outputs": [],
   "source": []
  },
  {
   "cell_type": "code",
   "execution_count": 37,
   "metadata": {},
   "outputs": [
    {
     "data": {
      "text/plain": [
       "{'5%': 1.62,\n",
       " '16%': 8.01,\n",
       " '25%': 19.67,\n",
       " '50%': 59.63,\n",
       " '75%': 81.23,\n",
       " '84%': 95.94,\n",
       " '95%': 99.39,\n",
       " '100%': 100.0}"
      ]
     },
     "execution_count": 37,
     "metadata": {},
     "output_type": "execute_result"
    }
   ],
   "source": [
    "z1,q1=percentiles(uturu_cum_bed_H)\n",
    "z2,q2=percentiles(uturu_cum_bed_G)\n",
    "z3,q3=percentiles(uturu_cum_bed_E)\n",
    "z4,q4=percentiles(uturu_cum_bed_D)\n",
    "z5,q5=percentiles(uturu_cum_bed_B)\n",
    "z6,q6=percentiles(uturu_cum_bed_A)\n",
    "q5"
   ]
  },
  {
   "cell_type": "code",
   "execution_count": null,
   "metadata": {},
   "outputs": [],
   "source": []
  },
  {
   "cell_type": "code",
   "execution_count": null,
   "metadata": {},
   "outputs": [],
   "source": []
  },
  {
   "cell_type": "code",
   "execution_count": null,
   "metadata": {},
   "outputs": [],
   "source": []
  },
  {
   "cell_type": "code",
   "execution_count": null,
   "metadata": {},
   "outputs": [],
   "source": []
  },
  {
   "cell_type": "code",
   "execution_count": null,
   "metadata": {},
   "outputs": [],
   "source": []
  },
  {
   "cell_type": "code",
   "execution_count": null,
   "metadata": {},
   "outputs": [],
   "source": []
  },
  {
   "cell_type": "code",
   "execution_count": null,
   "metadata": {},
   "outputs": [],
   "source": []
  },
  {
   "cell_type": "code",
   "execution_count": 20,
   "metadata": {},
   "outputs": [
    {
     "data": {
      "text/plain": [
       "[-1.0, -0.24, 0.23, 1.23, 1.74, 2.74, 3.74, 3.99]"
      ]
     },
     "execution_count": 20,
     "metadata": {},
     "output_type": "execute_result"
    }
   ],
   "source": [
    "phi"
   ]
  },
  {
   "cell_type": "code",
   "execution_count": null,
   "metadata": {},
   "outputs": [],
   "source": []
  },
  {
   "cell_type": "code",
   "execution_count": 16,
   "metadata": {},
   "outputs": [],
   "source": []
  },
  {
   "cell_type": "code",
   "execution_count": 30,
   "metadata": {},
   "outputs": [],
   "source": [
    "def Data_Frame(q,phi,bed_data):\n",
    "    \"\"\"\n",
    "    Passing the dictionary, from the percentile function, \n",
    "    the phi scale list/array.\n",
    "    the bed_data.\n",
    "    \"\"\"\n",
    "    \n",
    "    \n",
    "\n",
    "    Outcrop_Bed_data= dict(zip(phi,bed_data))\n",
    "    Outcrop_Bed= pd.DataFrame(Outcrop_Bed_data.items(), columns= ['Phi_scale','Cummulative_Mass_Retained'])\n",
    "    \n",
    "    percentile_table=pd.DataFrame(q.items(),columns=['Percentiles','Percentile_Passings' ])\n",
    "    percentile_table.drop(['Percentile_Passings'],1, inplace=True)\n",
    "    \n",
    "    Out=Outcrop_Bed.join(percentile_table)\n",
    "    \n",
    "    \n",
    "    return Out"
   ]
  },
  {
   "cell_type": "code",
   "execution_count": 31,
   "metadata": {},
   "outputs": [],
   "source": [
    "def plot_data_point(data,name_of_bed):\n",
    "    \n",
    "    \"\"\"Plots the Cuumulative Mass Retained vs the Phi Scale for easy picking of the percentiles\"\"\"\n",
    "    fig,ax=plt.subplots(figsize=(12,8))\n",
    "    plt.plot(data['Phi_scale'],data['Cummulative_Mass_Retained'])\n",
    "    plt.scatter(data['Phi_scale'],data['Cummulative_Mass_Retained'])\n",
    "    ax.xaxis.set_minor_locator(AutoMinorLocator(n=5))\n",
    "    ax.yaxis.set_minor_locator(AutoMinorLocator(n=5))\n",
    "    ax.xaxis.set_minor_formatter(FormatStrFormatter(\"%.1f\"))\n",
    "    ax.yaxis.set_minor_formatter(FormatStrFormatter(\"%.0f\"))\n",
    "       \n",
    "\n",
    "    plt.rc('grid', linestyle=\"-\", color='black')\n",
    "    ax.spines['bottom'].set_color('1.5')\n",
    "    ax.spines['top'].set_color('1.5')\n",
    "    ax.spines['right'].set_color('1.5')\n",
    "    ax.spines['left'].set_color('1.5')\n",
    "    plt.grid(True, which='minor', color='k', linestyle='-')\n",
    "    plt.grid(True, which='major', color='r', linestyle='-')\n",
    "\n",
    "    plt.title(f'Cummulative Frequncy Curve {name_of_bed}',fontsize=20,fontweight='bold')\n",
    "    cursor = Cursor(ax, useblit=True, color='red', linewidth=2)\n",
    "#     plt.show()"
   ]
  },
  {
   "cell_type": "markdown",
   "metadata": {},
   "source": [
    "# Bed Data"
   ]
  },
  {
   "cell_type": "code",
   "execution_count": 38,
   "metadata": {},
   "outputs": [
    {
     "data": {
      "text/html": [
       "<div>\n",
       "<style scoped>\n",
       "    .dataframe tbody tr th:only-of-type {\n",
       "        vertical-align: middle;\n",
       "    }\n",
       "\n",
       "    .dataframe tbody tr th {\n",
       "        vertical-align: top;\n",
       "    }\n",
       "\n",
       "    .dataframe thead th {\n",
       "        text-align: right;\n",
       "    }\n",
       "</style>\n",
       "<table border=\"1\" class=\"dataframe\">\n",
       "  <thead>\n",
       "    <tr style=\"text-align: right;\">\n",
       "      <th></th>\n",
       "      <th>Phi_scale</th>\n",
       "      <th>Cummulative_Mass_Retained</th>\n",
       "      <th>Percentiles</th>\n",
       "    </tr>\n",
       "  </thead>\n",
       "  <tbody>\n",
       "    <tr>\n",
       "      <th>0</th>\n",
       "      <td>-1.00</td>\n",
       "      <td>0.81</td>\n",
       "      <td>5%</td>\n",
       "    </tr>\n",
       "    <tr>\n",
       "      <th>1</th>\n",
       "      <td>-0.24</td>\n",
       "      <td>4.35</td>\n",
       "      <td>16%</td>\n",
       "    </tr>\n",
       "    <tr>\n",
       "      <th>2</th>\n",
       "      <td>0.23</td>\n",
       "      <td>11.93</td>\n",
       "      <td>25%</td>\n",
       "    </tr>\n",
       "    <tr>\n",
       "      <th>3</th>\n",
       "      <td>1.23</td>\n",
       "      <td>50.25</td>\n",
       "      <td>50%</td>\n",
       "    </tr>\n",
       "    <tr>\n",
       "      <th>4</th>\n",
       "      <td>1.74</td>\n",
       "      <td>76.84</td>\n",
       "      <td>75%</td>\n",
       "    </tr>\n",
       "    <tr>\n",
       "      <th>5</th>\n",
       "      <td>2.74</td>\n",
       "      <td>95.14</td>\n",
       "      <td>84%</td>\n",
       "    </tr>\n",
       "    <tr>\n",
       "      <th>6</th>\n",
       "      <td>3.74</td>\n",
       "      <td>98.88</td>\n",
       "      <td>95%</td>\n",
       "    </tr>\n",
       "    <tr>\n",
       "      <th>7</th>\n",
       "      <td>3.99</td>\n",
       "      <td>99.99</td>\n",
       "      <td>100%</td>\n",
       "    </tr>\n",
       "  </tbody>\n",
       "</table>\n",
       "</div>"
      ],
      "text/plain": [
       "   Phi_scale  Cummulative_Mass_Retained Percentiles\n",
       "0      -1.00                       0.81          5%\n",
       "1      -0.24                       4.35         16%\n",
       "2       0.23                      11.93         25%\n",
       "3       1.23                      50.25         50%\n",
       "4       1.74                      76.84         75%\n",
       "5       2.74                      95.14         84%\n",
       "6       3.74                      98.88         95%\n",
       "7       3.99                      99.99        100%"
      ]
     },
     "execution_count": 38,
     "metadata": {},
     "output_type": "execute_result"
    }
   ],
   "source": [
    "uturu_bed_A= Data_Frame(q6,phi,uturu_cum_bed_A)\n",
    "uturu_bed_B= Data_Frame(q5,phi,uturu_cum_bed_B)\n",
    "uturu_bed_D= Data_Frame(q4,phi,uturu_cum_bed_D)\n",
    "uturu_bed_E= Data_Frame(q3,phi,uturu_cum_bed_E)\n",
    "uturu_bed_G= Data_Frame(q2,phi,uturu_cum_bed_G)\n",
    "uturu_bed_H= Data_Frame(q1,phi,uturu_cum_bed_H)\n",
    "\n",
    "uturu_bed_E"
   ]
  },
  {
   "cell_type": "code",
   "execution_count": null,
   "metadata": {},
   "outputs": [],
   "source": []
  },
  {
   "cell_type": "code",
   "execution_count": null,
   "metadata": {},
   "outputs": [],
   "source": []
  },
  {
   "cell_type": "code",
   "execution_count": null,
   "metadata": {},
   "outputs": [],
   "source": []
  },
  {
   "cell_type": "code",
   "execution_count": null,
   "metadata": {},
   "outputs": [],
   "source": []
  },
  {
   "cell_type": "markdown",
   "metadata": {},
   "source": [
    "# GrainVIz Class"
   ]
  },
  {
   "cell_type": "code",
   "execution_count": 55,
   "metadata": {},
   "outputs": [],
   "source": [
    "#Object\n",
    "\n",
    "\n",
    "\n",
    "class GrainViz():\n",
    "\n",
    "    '''Generate a DataFrame(Spread Sheet of the data),\n",
    "    Initial plot of the Cumulative Mass Retain Vs Phi_scale,\n",
    "    to pick the percentiles of interest on the Phi scale.'''\n",
    "    \n",
    "    def Data_Frame(q,phi,bed_data):\n",
    "        \"\"\"\n",
    "        Passing the dictionary, from the percentile function, \n",
    "        the phi scale list/array.\n",
    "        the bed_data.\n",
    "        \"\"\"\n",
    "    \n",
    "    \n",
    "\n",
    "        Outcrop_Bed_data= dict(zip(phi,bed_data))\n",
    "        Outcrop_Bed= pd.DataFrame(Outcrop_Bed_data.items(), columns= ['Phi_scale','Cummulative_Mass_Retained'])\n",
    "    \n",
    "        percentile_table=pd.DataFrame(q.items(),columns=['Percentiles','Percentile_Passings' ])\n",
    "        percentile_table.drop(['Percentile_Passings'],1, inplace=True)\n",
    "    \n",
    "        Out=percentile_table.join(Outcrop_Bed)\n",
    "    \n",
    "    \n",
    "        return Out\n",
    "    \n",
    "\n",
    "    def plot_data_point(data,name_of_bed):\n",
    "    \n",
    "        \"\"\"Plots the Cuumulative Mass Retained vs the Phi Scale for easy picking of the percentiles\"\"\"\n",
    "        fig,ax=plt.subplots(figsize=(12,8))\n",
    "        plt.plot(data['Phi_scale'],data['Cummulative_Mass_Retained'])\n",
    "        plt.scatter(data['Phi_scale'],data['Cummulative_Mass_Retained'])\n",
    "        ax.xaxis.set_minor_locator(AutoMinorLocator(n=5))\n",
    "        ax.yaxis.set_minor_locator(AutoMinorLocator(n=5))\n",
    "        ax.xaxis.set_minor_formatter(FormatStrFormatter(\"%.1f\"))\n",
    "        ax.yaxis.set_minor_formatter(FormatStrFormatter(\"%.0f\"))\n",
    "       \n",
    "\n",
    "        plt.rc('grid', linestyle=\"-\", color='black')\n",
    "        ax.spines['bottom'].set_color('1.5')\n",
    "        ax.spines['top'].set_color('1.5')\n",
    "        ax.spines['right'].set_color('1.5')\n",
    "        ax.spines['left'].set_color('1.5')\n",
    "        plt.grid(True, which='minor', color='k', linestyle='-')\n",
    "        plt.grid(True, which='major', color='r', linestyle='-')\n",
    " \n",
    "        plt.title(f'Cummulative Frequncy Curve {name_of_bed}',fontsize=20,fontweight='bold')\n",
    "        \n",
    "        plt.show()\n",
    "    \n",
    "    \n",
    "    def DataFrame_PhiPercentiles(data,phi_percentile):\n",
    "        data['Phi_Percentiles']=phi_percentile\n",
    "        return data\n",
    "\n",
    "    \n",
    "GrainViz=GrainViz"
   ]
  },
  {
   "cell_type": "code",
   "execution_count": 35,
   "metadata": {},
   "outputs": [
    {
     "data": {
      "text/html": [
       "<div>\n",
       "<style scoped>\n",
       "    .dataframe tbody tr th:only-of-type {\n",
       "        vertical-align: middle;\n",
       "    }\n",
       "\n",
       "    .dataframe tbody tr th {\n",
       "        vertical-align: top;\n",
       "    }\n",
       "\n",
       "    .dataframe thead th {\n",
       "        text-align: right;\n",
       "    }\n",
       "</style>\n",
       "<table border=\"1\" class=\"dataframe\">\n",
       "  <thead>\n",
       "    <tr style=\"text-align: right;\">\n",
       "      <th></th>\n",
       "      <th>Percentiles</th>\n",
       "      <th>Phi_scale</th>\n",
       "      <th>Cummulative_Mass_Retained</th>\n",
       "    </tr>\n",
       "  </thead>\n",
       "  <tbody>\n",
       "    <tr>\n",
       "      <th>0</th>\n",
       "      <td>5%</td>\n",
       "      <td>-1.00</td>\n",
       "      <td>0.81</td>\n",
       "    </tr>\n",
       "    <tr>\n",
       "      <th>1</th>\n",
       "      <td>16%</td>\n",
       "      <td>-0.24</td>\n",
       "      <td>4.35</td>\n",
       "    </tr>\n",
       "    <tr>\n",
       "      <th>2</th>\n",
       "      <td>25%</td>\n",
       "      <td>0.23</td>\n",
       "      <td>11.93</td>\n",
       "    </tr>\n",
       "    <tr>\n",
       "      <th>3</th>\n",
       "      <td>50%</td>\n",
       "      <td>1.23</td>\n",
       "      <td>50.25</td>\n",
       "    </tr>\n",
       "    <tr>\n",
       "      <th>4</th>\n",
       "      <td>75%</td>\n",
       "      <td>1.74</td>\n",
       "      <td>76.84</td>\n",
       "    </tr>\n",
       "    <tr>\n",
       "      <th>5</th>\n",
       "      <td>84%</td>\n",
       "      <td>2.74</td>\n",
       "      <td>95.14</td>\n",
       "    </tr>\n",
       "    <tr>\n",
       "      <th>6</th>\n",
       "      <td>95%</td>\n",
       "      <td>3.74</td>\n",
       "      <td>98.88</td>\n",
       "    </tr>\n",
       "    <tr>\n",
       "      <th>7</th>\n",
       "      <td>100%</td>\n",
       "      <td>3.99</td>\n",
       "      <td>99.99</td>\n",
       "    </tr>\n",
       "  </tbody>\n",
       "</table>\n",
       "</div>"
      ],
      "text/plain": [
       "  Percentiles  Phi_scale  Cummulative_Mass_Retained\n",
       "0          5%      -1.00                       0.81\n",
       "1         16%      -0.24                       4.35\n",
       "2         25%       0.23                      11.93\n",
       "3         50%       1.23                      50.25\n",
       "4         75%       1.74                      76.84\n",
       "5         84%       2.74                      95.14\n",
       "6         95%       3.74                      98.88\n",
       "7        100%       3.99                      99.99"
      ]
     },
     "execution_count": 35,
     "metadata": {},
     "output_type": "execute_result"
    }
   ],
   "source": [
    "x=GrainViz.Data_Frame(q3,phi,uturu_cum_bed_E)\n",
    "x"
   ]
  },
  {
   "cell_type": "code",
   "execution_count": 36,
   "metadata": {},
   "outputs": [
    {
     "data": {
      "image/png": "[encoded data removed]",
      "text/plain": [
       "<Figure size 864x576 with 1 Axes>"
      ]
     },
     "metadata": {},
     "output_type": "display_data"
    }
   ],
   "source": [
    "GrainViz.plot_data_point(x,'bed_E')"
   ]
  },
  {
   "cell_type": "code",
   "execution_count": null,
   "metadata": {},
   "outputs": [],
   "source": [
    "GrainViz."
   ]
  },
  {
   "cell_type": "code",
   "execution_count": null,
   "metadata": {},
   "outputs": [],
   "source": []
  },
  {
   "cell_type": "code",
   "execution_count": null,
   "metadata": {},
   "outputs": [],
   "source": []
  },
  {
   "cell_type": "code",
   "execution_count": null,
   "metadata": {},
   "outputs": [],
   "source": []
  },
  {
   "cell_type": "code",
   "execution_count": null,
   "metadata": {},
   "outputs": [],
   "source": []
  },
  {
   "cell_type": "code",
   "execution_count": null,
   "metadata": {},
   "outputs": [],
   "source": []
  },
  {
   "cell_type": "code",
   "execution_count": null,
   "metadata": {},
   "outputs": [],
   "source": []
  },
  {
   "cell_type": "code",
   "execution_count": null,
   "metadata": {},
   "outputs": [],
   "source": []
  },
  {
   "cell_type": "code",
   "execution_count": null,
   "metadata": {},
   "outputs": [],
   "source": []
  },
  {
   "cell_type": "code",
   "execution_count": null,
   "metadata": {},
   "outputs": [],
   "source": []
  },
  {
   "cell_type": "code",
   "execution_count": null,
   "metadata": {
    "scrolled": true
   },
   "outputs": [],
   "source": []
  },
  {
   "cell_type": "code",
   "execution_count": null,
   "metadata": {},
   "outputs": [],
   "source": []
  },
  {
   "cell_type": "code",
   "execution_count": 39,
   "metadata": {
    "scrolled": true
   },
   "outputs": [
    {
     "data": {
      "image/png": "[encoded data removed]",
      "text/plain": [
       "<Figure size 864x576 with 1 Axes>"
      ]
     },
     "metadata": {},
     "output_type": "display_data"
    }
   ],
   "source": [
    "plot_data_point(uturu_bed_E,'Uturu_Bed_E')"
   ]
  },
  {
   "cell_type": "code",
   "execution_count": null,
   "metadata": {},
   "outputs": [],
   "source": []
  },
  {
   "cell_type": "code",
   "execution_count": null,
   "metadata": {},
   "outputs": [],
   "source": []
  },
  {
   "cell_type": "code",
   "execution_count": null,
   "metadata": {},
   "outputs": [],
   "source": []
  },
  {
   "cell_type": "markdown",
   "metadata": {},
   "source": [
    "# BED DATA FOR OTHER OUTCROPS"
   ]
  },
  {
   "cell_type": "code",
   "execution_count": 41,
   "metadata": {},
   "outputs": [],
   "source": [
    "#Techincal COllege\n",
    "\n",
    "\n",
    "bed_C= [2.3,5.6,7.7,21.0,13.5,35.9,12,1.6]\n",
    "bed_E = [10.8,21.8,16.4,36.7,3.9,6.3,1.2,0]\n",
    "bed_G = [3.9,10.1,9.3,35.4,23.2,15.3,2.4,0.3]"
   ]
  },
  {
   "cell_type": "code",
   "execution_count": 42,
   "metadata": {},
   "outputs": [],
   "source": [
    "Tech_coll_C=bed_to_100(bed_C)\n",
    "Tech_coll_E=bed_to_100(bed_E)\n",
    "Tech_coll_G=bed_to_100(bed_G)\n"
   ]
  },
  {
   "cell_type": "code",
   "execution_count": 43,
   "metadata": {},
   "outputs": [],
   "source": [
    "Tech_coll_C=cummulate_bed(Tech_coll_C)\n",
    "Tech_coll_E=cummulate_bed(Tech_coll_E)\n",
    "Tech_coll_G=cummulate_bed(Tech_coll_G)"
   ]
  },
  {
   "cell_type": "code",
   "execution_count": 44,
   "metadata": {},
   "outputs": [
    {
     "data": {
      "text/plain": [
       "({'5%': 3.9,\n",
       "  '16%': 14.01,\n",
       "  '25%': 23.32,\n",
       "  '50%': 58.76,\n",
       "  '75%': 81.98,\n",
       "  '84%': 97.3,\n",
       "  '95%': 99.7,\n",
       "  '100%': 100.0},\n",
       " {'5%': 11.12,\n",
       "  '16%': 33.57,\n",
       "  '25%': 50.46,\n",
       "  '50%': 88.26,\n",
       "  '75%': 92.28,\n",
       "  '84%': 98.77,\n",
       "  '95%': 100.01,\n",
       "  '100%': 100.01},\n",
       " {'5%': 2.31,\n",
       "  '16%': 7.93,\n",
       "  '25%': 15.66,\n",
       "  '50%': 36.74,\n",
       "  '75%': 50.29,\n",
       "  '84%': 86.33,\n",
       "  '95%': 98.38,\n",
       "  '100%': 99.99})"
      ]
     },
     "execution_count": 44,
     "metadata": {},
     "output_type": "execute_result"
    }
   ],
   "source": [
    "z2,q2=percentiles(Tech_coll_G)\n",
    "z3,q3=percentiles(Tech_coll_E)\n",
    "z4,q4=percentiles(Tech_coll_C)\n",
    "\n",
    "q2,q3,q4"
   ]
  },
  {
   "cell_type": "code",
   "execution_count": 48,
   "metadata": {
    "scrolled": true
   },
   "outputs": [
    {
     "data": {
      "text/html": [
       "<div>\n",
       "<style scoped>\n",
       "    .dataframe tbody tr th:only-of-type {\n",
       "        vertical-align: middle;\n",
       "    }\n",
       "\n",
       "    .dataframe tbody tr th {\n",
       "        vertical-align: top;\n",
       "    }\n",
       "\n",
       "    .dataframe thead th {\n",
       "        text-align: right;\n",
       "    }\n",
       "</style>\n",
       "<table border=\"1\" class=\"dataframe\">\n",
       "  <thead>\n",
       "    <tr style=\"text-align: right;\">\n",
       "      <th></th>\n",
       "      <th>Phi_scale</th>\n",
       "      <th>Cummulative_Mass_Retained</th>\n",
       "      <th>Percentiles</th>\n",
       "    </tr>\n",
       "  </thead>\n",
       "  <tbody>\n",
       "    <tr>\n",
       "      <th>0</th>\n",
       "      <td>-1.00</td>\n",
       "      <td>11.12</td>\n",
       "      <td>5%</td>\n",
       "    </tr>\n",
       "    <tr>\n",
       "      <th>1</th>\n",
       "      <td>-0.24</td>\n",
       "      <td>33.57</td>\n",
       "      <td>16%</td>\n",
       "    </tr>\n",
       "    <tr>\n",
       "      <th>2</th>\n",
       "      <td>0.23</td>\n",
       "      <td>50.46</td>\n",
       "      <td>25%</td>\n",
       "    </tr>\n",
       "    <tr>\n",
       "      <th>3</th>\n",
       "      <td>1.23</td>\n",
       "      <td>88.26</td>\n",
       "      <td>50%</td>\n",
       "    </tr>\n",
       "    <tr>\n",
       "      <th>4</th>\n",
       "      <td>1.74</td>\n",
       "      <td>92.28</td>\n",
       "      <td>75%</td>\n",
       "    </tr>\n",
       "    <tr>\n",
       "      <th>5</th>\n",
       "      <td>2.74</td>\n",
       "      <td>98.77</td>\n",
       "      <td>84%</td>\n",
       "    </tr>\n",
       "    <tr>\n",
       "      <th>6</th>\n",
       "      <td>3.74</td>\n",
       "      <td>100.01</td>\n",
       "      <td>95%</td>\n",
       "    </tr>\n",
       "    <tr>\n",
       "      <th>7</th>\n",
       "      <td>3.99</td>\n",
       "      <td>100.01</td>\n",
       "      <td>100%</td>\n",
       "    </tr>\n",
       "  </tbody>\n",
       "</table>\n",
       "</div>"
      ],
      "text/plain": [
       "   Phi_scale  Cummulative_Mass_Retained Percentiles\n",
       "0      -1.00                      11.12          5%\n",
       "1      -0.24                      33.57         16%\n",
       "2       0.23                      50.46         25%\n",
       "3       1.23                      88.26         50%\n",
       "4       1.74                      92.28         75%\n",
       "5       2.74                      98.77         84%\n",
       "6       3.74                     100.01         95%\n",
       "7       3.99                     100.01        100%"
      ]
     },
     "execution_count": 48,
     "metadata": {},
     "output_type": "execute_result"
    }
   ],
   "source": [
    "tech_bed_C= Data_Frame(q4,phi,Tech_coll_C)\n",
    "tech_bed_E= Data_Frame(q3,phi,Tech_coll_E)\n",
    "tech_bed_G= Data_Frame(q2,phi,Tech_coll_G)\n",
    "\n",
    "tech_bed_E"
   ]
  },
  {
   "cell_type": "code",
   "execution_count": 49,
   "metadata": {},
   "outputs": [
    {
     "data": {
      "text/html": [
       "<div>\n",
       "<style scoped>\n",
       "    .dataframe tbody tr th:only-of-type {\n",
       "        vertical-align: middle;\n",
       "    }\n",
       "\n",
       "    .dataframe tbody tr th {\n",
       "        vertical-align: top;\n",
       "    }\n",
       "\n",
       "    .dataframe thead th {\n",
       "        text-align: right;\n",
       "    }\n",
       "</style>\n",
       "<table border=\"1\" class=\"dataframe\">\n",
       "  <thead>\n",
       "    <tr style=\"text-align: right;\">\n",
       "      <th></th>\n",
       "      <th>Phi_scale</th>\n",
       "      <th>Cummulative_Mass_Retained</th>\n",
       "      <th>Percentiles</th>\n",
       "    </tr>\n",
       "  </thead>\n",
       "  <tbody>\n",
       "    <tr>\n",
       "      <th>0</th>\n",
       "      <td>-1.00</td>\n",
       "      <td>2.31</td>\n",
       "      <td>5%</td>\n",
       "    </tr>\n",
       "    <tr>\n",
       "      <th>1</th>\n",
       "      <td>-0.24</td>\n",
       "      <td>7.93</td>\n",
       "      <td>16%</td>\n",
       "    </tr>\n",
       "    <tr>\n",
       "      <th>2</th>\n",
       "      <td>0.23</td>\n",
       "      <td>15.66</td>\n",
       "      <td>25%</td>\n",
       "    </tr>\n",
       "    <tr>\n",
       "      <th>3</th>\n",
       "      <td>1.23</td>\n",
       "      <td>36.74</td>\n",
       "      <td>50%</td>\n",
       "    </tr>\n",
       "    <tr>\n",
       "      <th>4</th>\n",
       "      <td>1.74</td>\n",
       "      <td>50.29</td>\n",
       "      <td>75%</td>\n",
       "    </tr>\n",
       "    <tr>\n",
       "      <th>5</th>\n",
       "      <td>2.74</td>\n",
       "      <td>86.33</td>\n",
       "      <td>84%</td>\n",
       "    </tr>\n",
       "    <tr>\n",
       "      <th>6</th>\n",
       "      <td>3.74</td>\n",
       "      <td>98.38</td>\n",
       "      <td>95%</td>\n",
       "    </tr>\n",
       "    <tr>\n",
       "      <th>7</th>\n",
       "      <td>3.99</td>\n",
       "      <td>99.99</td>\n",
       "      <td>100%</td>\n",
       "    </tr>\n",
       "  </tbody>\n",
       "</table>\n",
       "</div>"
      ],
      "text/plain": [
       "   Phi_scale  Cummulative_Mass_Retained Percentiles\n",
       "0      -1.00                       2.31          5%\n",
       "1      -0.24                       7.93         16%\n",
       "2       0.23                      15.66         25%\n",
       "3       1.23                      36.74         50%\n",
       "4       1.74                      50.29         75%\n",
       "5       2.74                      86.33         84%\n",
       "6       3.74                      98.38         95%\n",
       "7       3.99                      99.99        100%"
      ]
     },
     "execution_count": 49,
     "metadata": {},
     "output_type": "execute_result"
    }
   ],
   "source": [
    "tech_bed_C"
   ]
  },
  {
   "cell_type": "code",
   "execution_count": null,
   "metadata": {},
   "outputs": [],
   "source": []
  },
  {
   "cell_type": "code",
   "execution_count": 107,
   "metadata": {},
   "outputs": [],
   "source": [
    "#The function for the plot is below"
   ]
  },
  {
   "cell_type": "code",
   "execution_count": null,
   "metadata": {
    "scrolled": true
   },
   "outputs": [],
   "source": []
  },
  {
   "cell_type": "code",
   "execution_count": null,
   "metadata": {},
   "outputs": [],
   "source": []
  },
  {
   "cell_type": "code",
   "execution_count": 26,
   "metadata": {},
   "outputs": [],
   "source": [
    "#Amasiri Sandstone \n",
    "\n",
    "\n",
    "\n",
    "bed_A=[0.6,10.9,23.8,48,8.9,4.3,1.2,0.1]\n",
    "bed_B=[8.7,15.3,21.3,39.6,5.9,1.7,1.6,0.9]\n",
    "bed_C=[4.1,14.0,17.8,44.1,12.6,5.2,1.1,0.2]\n",
    "bed_D=[3.6,12.0,13.6,39.3,15.1,9.0,3.9,1.3]"
   ]
  },
  {
   "cell_type": "code",
   "execution_count": 27,
   "metadata": {},
   "outputs": [],
   "source": [
    "Amasiri_A=bed_to_100(bed_A)\n",
    "Amasiri_B=bed_to_100(bed_B)\n",
    "Amasiri_C=bed_to_100(bed_C)\n",
    "Amasiri_D=bed_to_100(bed_D)"
   ]
  },
  {
   "cell_type": "code",
   "execution_count": 28,
   "metadata": {},
   "outputs": [],
   "source": [
    "Amasiri_A=cummulate_bed(Amasiri_A)\n",
    "Amasiri_B=cummulate_bed(Amasiri_B)\n",
    "Amasiri_C=cummulate_bed(Amasiri_C)\n",
    "Amasiri_D=cummulate_bed(Amasiri_D)"
   ]
  },
  {
   "cell_type": "code",
   "execution_count": 29,
   "metadata": {},
   "outputs": [],
   "source": [
    "x2,z2,q2=percentiles(Amasiri_A)\n",
    "x3,z3,q3=percentiles(Amasiri_B)\n",
    "x4,z4,q4=percentiles(Amasiri_C)\n",
    "x1,z1,q1=percentiles(Amasiri_D)\n"
   ]
  },
  {
   "cell_type": "code",
   "execution_count": 30,
   "metadata": {},
   "outputs": [],
   "source": [
    "amasiri_bed_A= Data_Frame(q2,phi,Amasiri_A)\n",
    "amasiri_bed_B= Data_Frame(q3,phi,Amasiri_B)\n",
    "amasiri_bed_C= Data_Frame(q4,phi,Amasiri_C)\n",
    "amasiri_bed_D= Data_Frame(q1,phi,Amasiri_D)\n"
   ]
  },
  {
   "cell_type": "code",
   "execution_count": 31,
   "metadata": {},
   "outputs": [],
   "source": [
    "def phi_percentiles(data,phi_percentile):\n",
    "    data['Phi_Percentiles']=phi_percentile\n",
    "    return data"
   ]
  },
  {
   "cell_type": "code",
   "execution_count": 33,
   "metadata": {},
   "outputs": [],
   "source": [
    "uturu_bed_A=phi_percentiles(uturu_bed_A,[-.75,-.2,.1,1.5,2.9,3.6,3.9,4])\n",
    "uturu_bed_B=phi_percentiles(uturu_bed_B,[-.8,-.2,.1,1.5,3,3.6,3.8,4])\n",
    "uturu_bed_D=phi_percentiles(uturu_bed_D,[-.75,-.2,.1,1.45,2.9,3.7,3.9,4])\n",
    "uturu_bed_E=phi_percentiles(uturu_bed_E,[-.8,-.2,.1,1.45,2.9,3.6,3.9,4])\n",
    "uturu_bed_G=phi_percentiles(uturu_bed_G,[-.8,-.2,.1,1.5,2.9,3.6,3.9,4])\n",
    "uturu_bed_H=phi_percentiles(uturu_bed_H,[-.8,-.2,.15,1.5,2.85,3.6,3.8,4])"
   ]
  },
  {
   "cell_type": "code",
   "execution_count": 34,
   "metadata": {},
   "outputs": [
    {
     "data": {
      "text/html": [
       "<div>\n",
       "<style scoped>\n",
       "    .dataframe tbody tr th:only-of-type {\n",
       "        vertical-align: middle;\n",
       "    }\n",
       "\n",
       "    .dataframe tbody tr th {\n",
       "        vertical-align: top;\n",
       "    }\n",
       "\n",
       "    .dataframe thead th {\n",
       "        text-align: right;\n",
       "    }\n",
       "</style>\n",
       "<table border=\"1\" class=\"dataframe\">\n",
       "  <thead>\n",
       "    <tr style=\"text-align: right;\">\n",
       "      <th></th>\n",
       "      <th>Phi_scale</th>\n",
       "      <th>Bed_thickness</th>\n",
       "      <th>Percentiles</th>\n",
       "      <th>Percentile_Passings</th>\n",
       "      <th>Phi_Percentiles</th>\n",
       "    </tr>\n",
       "  </thead>\n",
       "  <tbody>\n",
       "    <tr>\n",
       "      <th>0</th>\n",
       "      <td>-1.00</td>\n",
       "      <td>0.60</td>\n",
       "      <td>5%</td>\n",
       "      <td>2.00</td>\n",
       "      <td>-0.80</td>\n",
       "    </tr>\n",
       "    <tr>\n",
       "      <th>1</th>\n",
       "      <td>-0.24</td>\n",
       "      <td>4.60</td>\n",
       "      <td>16%</td>\n",
       "      <td>5.56</td>\n",
       "      <td>-0.20</td>\n",
       "    </tr>\n",
       "    <tr>\n",
       "      <th>2</th>\n",
       "      <td>0.23</td>\n",
       "      <td>12.59</td>\n",
       "      <td>25%</td>\n",
       "      <td>10.59</td>\n",
       "      <td>0.15</td>\n",
       "    </tr>\n",
       "    <tr>\n",
       "      <th>3</th>\n",
       "      <td>1.23</td>\n",
       "      <td>58.44</td>\n",
       "      <td>50%</td>\n",
       "      <td>71.12</td>\n",
       "      <td>1.50</td>\n",
       "    </tr>\n",
       "    <tr>\n",
       "      <th>4</th>\n",
       "      <td>1.74</td>\n",
       "      <td>83.81</td>\n",
       "      <td>75%</td>\n",
       "      <td>96.30</td>\n",
       "      <td>2.85</td>\n",
       "    </tr>\n",
       "    <tr>\n",
       "      <th>5</th>\n",
       "      <td>2.74</td>\n",
       "      <td>95.20</td>\n",
       "      <td>84%</td>\n",
       "      <td>99.07</td>\n",
       "      <td>3.60</td>\n",
       "    </tr>\n",
       "    <tr>\n",
       "      <th>6</th>\n",
       "      <td>3.74</td>\n",
       "      <td>99.60</td>\n",
       "      <td>95%</td>\n",
       "      <td>99.86</td>\n",
       "      <td>3.80</td>\n",
       "    </tr>\n",
       "    <tr>\n",
       "      <th>7</th>\n",
       "      <td>3.99</td>\n",
       "      <td>100.00</td>\n",
       "      <td>99.9%</td>\n",
       "      <td>100.00</td>\n",
       "      <td>4.00</td>\n",
       "    </tr>\n",
       "  </tbody>\n",
       "</table>\n",
       "</div>"
      ],
      "text/plain": [
       "   Phi_scale  Bed_thickness Percentiles  Percentile_Passings  Phi_Percentiles\n",
       "0      -1.00           0.60          5%                 2.00            -0.80\n",
       "1      -0.24           4.60         16%                 5.56            -0.20\n",
       "2       0.23          12.59         25%                10.59             0.15\n",
       "3       1.23          58.44         50%                71.12             1.50\n",
       "4       1.74          83.81         75%                96.30             2.85\n",
       "5       2.74          95.20         84%                99.07             3.60\n",
       "6       3.74          99.60         95%                99.86             3.80\n",
       "7       3.99         100.00       99.9%               100.00             4.00"
      ]
     },
     "execution_count": 34,
     "metadata": {},
     "output_type": "execute_result"
    }
   ],
   "source": [
    "uturu_bed_H"
   ]
  },
  {
   "cell_type": "code",
   "execution_count": 35,
   "metadata": {},
   "outputs": [],
   "source": [
    "tech_bed_C= phi_percentiles(tech_bed_C,[-.8,-.15,.8,1.5,2.9,3.6,3.9,4])\n",
    "tech_bed_E=phi_percentiles(tech_bed_E,[-.7,-.2,.1,1.7,2.7,3.65,4,4])\n",
    "tech_bed_G=phi_percentiles(tech_bed_G,[-.7,-.2,.4,1.45,2.9,3.6,3.9,4])"
   ]
  },
  {
   "cell_type": "code",
   "execution_count": 36,
   "metadata": {},
   "outputs": [],
   "source": [
    "amasiri_bed_A= phi_percentiles(amasiri_bed_A,[-.7,-.2,.1,1.45,3,3.2,3.65,4])\n",
    "amasiri_bed_B=phi_percentiles(amasiri_bed_B,[-.75,-.2,.1,1.45,2.8,3.7,3.8,4])\n",
    "amasiri_bed_C=phi_percentiles(amasiri_bed_C,[-.75,-.2,.15,1.5,2.5,3.6,3.8,4])\n",
    "amasiri_bed_D=phi_percentiles(amasiri_bed_D,[-.75,-.1,.8,1.45,2.9,3.5,3.75,4])"
   ]
  },
  {
   "cell_type": "code",
   "execution_count": 37,
   "metadata": {},
   "outputs": [
    {
     "data": {
      "text/html": [
       "<div>\n",
       "<style scoped>\n",
       "    .dataframe tbody tr th:only-of-type {\n",
       "        vertical-align: middle;\n",
       "    }\n",
       "\n",
       "    .dataframe tbody tr th {\n",
       "        vertical-align: top;\n",
       "    }\n",
       "\n",
       "    .dataframe thead th {\n",
       "        text-align: right;\n",
       "    }\n",
       "</style>\n",
       "<table border=\"1\" class=\"dataframe\">\n",
       "  <thead>\n",
       "    <tr style=\"text-align: right;\">\n",
       "      <th></th>\n",
       "      <th>Phi_scale</th>\n",
       "      <th>Bed_thickness</th>\n",
       "      <th>Percentiles</th>\n",
       "      <th>Percentile_Passings</th>\n",
       "      <th>Phi_Percentiles</th>\n",
       "    </tr>\n",
       "  </thead>\n",
       "  <tbody>\n",
       "    <tr>\n",
       "      <th>0</th>\n",
       "      <td>-1.00</td>\n",
       "      <td>3.68</td>\n",
       "      <td>5%</td>\n",
       "      <td>7.97</td>\n",
       "      <td>-0.75</td>\n",
       "    </tr>\n",
       "    <tr>\n",
       "      <th>1</th>\n",
       "      <td>-0.24</td>\n",
       "      <td>15.95</td>\n",
       "      <td>16%</td>\n",
       "      <td>17.62</td>\n",
       "      <td>-0.10</td>\n",
       "    </tr>\n",
       "    <tr>\n",
       "      <th>2</th>\n",
       "      <td>0.23</td>\n",
       "      <td>29.86</td>\n",
       "      <td>25%</td>\n",
       "      <td>26.38</td>\n",
       "      <td>0.80</td>\n",
       "    </tr>\n",
       "    <tr>\n",
       "      <th>3</th>\n",
       "      <td>1.23</td>\n",
       "      <td>70.04</td>\n",
       "      <td>50%</td>\n",
       "      <td>77.76</td>\n",
       "      <td>1.45</td>\n",
       "    </tr>\n",
       "    <tr>\n",
       "      <th>4</th>\n",
       "      <td>1.74</td>\n",
       "      <td>85.48</td>\n",
       "      <td>75%</td>\n",
       "      <td>95.68</td>\n",
       "      <td>2.90</td>\n",
       "    </tr>\n",
       "    <tr>\n",
       "      <th>5</th>\n",
       "      <td>2.74</td>\n",
       "      <td>94.68</td>\n",
       "      <td>84%</td>\n",
       "      <td>98.19</td>\n",
       "      <td>3.50</td>\n",
       "    </tr>\n",
       "    <tr>\n",
       "      <th>6</th>\n",
       "      <td>3.74</td>\n",
       "      <td>98.67</td>\n",
       "      <td>95%</td>\n",
       "      <td>99.53</td>\n",
       "      <td>3.75</td>\n",
       "    </tr>\n",
       "    <tr>\n",
       "      <th>7</th>\n",
       "      <td>3.99</td>\n",
       "      <td>100.00</td>\n",
       "      <td>99.9%</td>\n",
       "      <td>99.99</td>\n",
       "      <td>4.00</td>\n",
       "    </tr>\n",
       "  </tbody>\n",
       "</table>\n",
       "</div>"
      ],
      "text/plain": [
       "   Phi_scale  Bed_thickness Percentiles  Percentile_Passings  Phi_Percentiles\n",
       "0      -1.00           3.68          5%                 7.97            -0.75\n",
       "1      -0.24          15.95         16%                17.62            -0.10\n",
       "2       0.23          29.86         25%                26.38             0.80\n",
       "3       1.23          70.04         50%                77.76             1.45\n",
       "4       1.74          85.48         75%                95.68             2.90\n",
       "5       2.74          94.68         84%                98.19             3.50\n",
       "6       3.74          98.67         95%                99.53             3.75\n",
       "7       3.99         100.00       99.9%                99.99             4.00"
      ]
     },
     "execution_count": 37,
     "metadata": {},
     "output_type": "execute_result"
    }
   ],
   "source": [
    "amasiri_bed_D"
   ]
  },
  {
   "cell_type": "code",
   "execution_count": null,
   "metadata": {},
   "outputs": [],
   "source": []
  },
  {
   "cell_type": "code",
   "execution_count": 44,
   "metadata": {},
   "outputs": [
    {
     "data": {
      "text/plain": [
       "'I use this block to test my logic before building the function'"
      ]
     },
     "execution_count": 44,
     "metadata": {},
     "output_type": "execute_result"
    }
   ],
   "source": [
    "'''I used this block to test my logic before building the function'''\n",
    "\n",
    "\n",
    "\n",
    "\n",
    "\n",
    "# percentat=[]\n",
    "\n",
    "# per=[5,16,25,50,75,84,95,99]\n",
    "# percentiles= [5,16,25,50,75,84,95,99]\n",
    "# phi_t=[]\n",
    "\n",
    "\n",
    "\n",
    "# for i in percentiles:\n",
    "#     for j in per:\n",
    "#         if i == j:\n",
    "#             percentat.append(round(np.percentile(bed_df.Bed_thickness,i),2))\n",
    "#             phi_t.append(round(np.percentile(bed_df.Phi_scale,i),2))\n",
    "# print(phi_t)\n",
    "\n",
    "# length_phi=[]\n",
    "# for i in range(len(phi_t)):\n",
    "#     length_phi.append(i)\n",
    "    \n",
    "# print(length_phi)\n",
    "# if len(per) == 6:\n",
    "#     fig,ax=plt.subplots(figsize=(10,8))\n",
    "#     plt.plot(bed_df['Phi_scale'],bed_df['Bed_thickness'])\n",
    "#     plt.plot(phi_t[0],percentat[0], marker='.', markersize=20, label= f'{per[0]}th Percentile')\n",
    "#     plt.plot(phi_t[1],percentat[1], marker='.', markersize=20, label= f'{per[1]}th Percentile')\n",
    "#     plt.plot(phi_t[2],percentat[2], marker='.', markersize=20, label= f'{per[2]}th Percentile')\n",
    "#     plt.plot(phi_t[3],percentat[3], marker='.', markersize=20, label= f'{per[3]}th Percentile')\n",
    "#     plt.plot(phi_t[4],percentat[4], marker='.', markersize=20, label= f'{per[4]}th Percentile')\n",
    "#     plt.plot(phi_t[5],percentat[5], marker='.', markersize=20, label= f'{per[5]}th Percentile')\n",
    "#     plt.xlabel('Phi Sieve Scale',fontsize=16)\n",
    "#     plt.ylabel('Passings of Sample',fontsize=16)\n",
    "#     plt.title('Cummulative Frequncy Curve',fontsize=20,fontweight='bold')\n",
    "#     plt.legend(bbox_to_anchor=(1,1))\n",
    "# elif len(per)==8:\n",
    "#     fig,ax=plt.subplots(figsize=(10,8))\n",
    "#     plt.plot(bed_df['Phi_scale'],bed_df['Bed_thickness'])\n",
    "#     plt.plot(phi_t[0],percentat[0], marker='.', markersize=20, label= f'{per[0]}th Percentile')\n",
    "#     plt.plot(phi_t[1],percentat[1], marker='.', markersize=20, label= f'{per[1]}th Percentile')\n",
    "#     plt.plot(phi_t[2],percentat[2], marker='.', markersize=20, label= f'{per[2]}th Percentile')\n",
    "#     plt.plot(phi_t[3],percentat[3], marker='.', markersize=20, label= f'{per[3]}th Percentile')\n",
    "#     plt.plot(phi_t[4],percentat[4], marker='.', markersize=20, label= f'{per[4]}th Percentile')\n",
    "#     plt.plot(phi_t[5],percentat[5], marker='.', markersize=20, label= f'{per[5]}th Percentile')\n",
    "#     plt.plot(phi_t[6],percentat[6], marker='.', markersize=20, label= f'{per[6]}th Percentile')\n",
    "#     plt.plot(phi_t[7],percentat[7], marker='.', markersize=20, label= f'{per[7]}th Percentile')\n",
    "#     plt.xlabel('Phi Sieve Scale',fontsize=16)\n",
    "#     plt.ylabel('Passings of Sample',fontsize=16)\n",
    "#     plt.title('Cummulative Frequncy Curve',fontsize=20,fontweight='bold')\n",
    "#     plt.legend(bbox_to_anchor=(1,1))\n",
    "\n",
    "    "
   ]
  },
  {
   "cell_type": "code",
   "execution_count": 110,
   "metadata": {},
   "outputs": [],
   "source": [
    "def plot_data_point(data,name_of_bed):\n",
    "    fig,ax=plt.subplots(figsize=(12,8))\n",
    "    plt.plot(data['Phi_scale'],data['Bed_thickness'])\n",
    "    plt.scatter(data['Phi_scale'],data['Bed_thickness'])\n",
    "    plt.xlabel('Grain Size (Phi)',fontsize=16)\n",
    "    plt.ylabel('Cumulative Mass Retained (%)',fontsize=16)\n",
    "    plt.title(f'Cummulative Frequncy Curve {name_of_bed}',fontsize=20,fontweight='bold')\n",
    "    plt.legend(bbox_to_anchor=(1,.8))"
   ]
  },
  {
   "cell_type": "code",
   "execution_count": 50,
   "metadata": {},
   "outputs": [],
   "source": [
    "def cum_curve(data,per,name_of_bed):\n",
    "    '''This is a function that plots the cummulative curve and indicates percentile passing'''\n",
    "#     percentat=[] #creating a list for percentile based on the percentile that the user wants to plot.\n",
    "#     phi_t=[]#creating a list for the percentiles for the phi scale.\n",
    "    percentiles= [5,16,25,50,75,84,95]\n",
    "    per= per\n",
    "\n",
    "#     for i in percentiles:\n",
    "#         for j in per:\n",
    "#             if i == j:\n",
    "# #                 percentat.append(round(np.percentile(data.Bed_thickness,i),2))\n",
    "#                 phi_t.append(round(np.percentile(data.Phi_scale,i),2))\n",
    "                \n",
    "                \n",
    "    #I feel this logic is not smart and flexible for the user. \n",
    "    #I could not loop through the dataframe to produce the plot so I had to use switch statements\n",
    "    #I did not also try to take care of errors.\n",
    "    \n",
    "    \n",
    "    \n",
    "    if len(per) == 7:\n",
    "        fig,ax=plt.subplots(figsize=(12,8))\n",
    "        plt.plot(data['Phi_scale'],data['Cummulative_Mass_Retained'])\n",
    "        plt.scatter(data['Phi_scale'],data['Cummulative_Mass_Retained'])\n",
    "        plt.plot(per[0],percentiles[0], marker='.', markersize=20, label= f'{per[0]}th Percentile')\n",
    "        plt.plot(per[1],percentiles[1], marker='.', markersize=20, label= f'{per[1]}th Percentile')\n",
    "        plt.plot(per[2],percentiles[2], marker='.', markersize=20, label= f'{per[2]}th Percentile')\n",
    "        plt.plot(per[3],percentiles[3], marker='.', markersize=20, label= f'{per[3]}th Percentile')\n",
    "        plt.plot(per[4],percentiles[4], marker='.', markersize=20, label= f'{per[4]}th Percentile')\n",
    "        plt.plot(per[5],percentiles[5], marker='.', markersize=20, label= f'{per[5]}th Percentile')\n",
    "        plt.plot(per[6],percentiles[6], marker='.', markersize=20, label= f'{per[6]}th Percentile')\n",
    "        \n",
    "        \n",
    "        ax.xaxis.set_minor_locator(AutoMinorLocator(n=5))\n",
    "        ax.yaxis.set_minor_locator(AutoMinorLocator(n=5))\n",
    "        ax.xaxis.set_minor_formatter(FormatStrFormatter(\"%.1f\"))\n",
    "        ax.yaxis.set_minor_formatter(FormatStrFormatter(\"%.0f\"))\n",
    "       \n",
    "\n",
    "        plt.rc('grid', linestyle=\"-\", color='black')\n",
    "        ax.spines['bottom'].set_color('1.5')\n",
    "        ax.spines['top'].set_color('1.5')\n",
    "        ax.spines['right'].set_color('1.5')\n",
    "        ax.spines['left'].set_color('1.5')\n",
    "        plt.grid(True, which='minor', color='k', linestyle='-')\n",
    "        plt.grid(True, which='major', color='r', linestyle='-')\n",
    "        plt.xlabel('Grain Size (Phi)',fontsize=16)\n",
    "        plt.ylabel('Cumulative Mass Retained (%)',fontsize=16)\n",
    "        plt.title(f'Cummulative Frequncy Curve {name_of_bed}',fontsize=20,fontweight='bold')\n",
    "        plt.legend(bbox_to_anchor=(1,.8))\n",
    "        fig.savefig(f'{name_of_bed}.png',pdi=fig.dpi)\n",
    "        data.to_csv(f'{name_of_bed}.csv', index=False)\n",
    "        \n",
    "    \n",
    "    \n",
    "    \n",
    "    elif len(per)==8:\n",
    "        \n",
    "        fig,ax=plt.subplots(figsize=(12,8))\n",
    "        plt.plot(data['Phi_scale'],data['Bed_thickness'])\n",
    "        plt.scatter(data['Phi_scale'],data['Bed_thickness'])\n",
    "        plt.plot(per[0],percentiles[0], marker='.', markersize=20, label= f'{per[0]}th Percentile')\n",
    "        plt.plot(per[1],percentiles[1], marker='.', markersize=20, label= f'{per[1]}th Percentile')\n",
    "        plt.plot(per[2],percentiles[2], marker='.', markersize=20, label= f'{per[2]}th Percentile')\n",
    "        plt.plot(per[3],percentiles[3], marker='.', markersize=20, label= f'{per[3]}th Percentile')\n",
    "        plt.plot(per[4],percentiles[4], marker='.', markersize=20, label= f'{per[4]}th Percentile')\n",
    "        plt.plot(per[5],percentiles[5], marker='.', markersize=20, label= f'{per[5]}th Percentile')\n",
    "        plt.plot(per[6],percentiles[6], marker='.', markersize=20, label= f'{per[6]}th Percentile')\n",
    "        \n",
    "        \n",
    "        ax.xaxis.set_minor_locator(AutoMinorLocator(n=5))\n",
    "        ax.yaxis.set_minor_locator(AutoMinorLocator(n=5))\n",
    "        ax.xaxis.set_minor_formatter(FormatStrFormatter(\"%.1f\"))\n",
    "        ax.yaxis.set_minor_formatter(FormatStrFormatter(\"%.0f\"))\n",
    "       \n",
    "\n",
    "        plt.rc('grid', linestyle=\"-\", color='black')\n",
    "        ax.spines['bottom'].set_color('1.5')\n",
    "        ax.spines['top'].set_color('1.5')\n",
    "        ax.spines['right'].set_color('1.5')\n",
    "        ax.spines['left'].set_color('1.5')\n",
    "        plt.grid(True, which='minor', color='r', linestyle='-')\n",
    "        plt.grid(True, which='major', color='r', linestyle='-')\n",
    "        plt.xlabel('Grain Size (Phi)',fontsize=16)\n",
    "        plt.ylabel('Cumulative Mass Retained (%)',fontsize=16)\n",
    "        plt.title(f'Cummulative Frequncy Curve {name_of_bed}',fontsize=20,fontweight='bold')\n",
    "        plt.legend(bbox_to_anchor=(1,.8))\n",
    "#         fig.savefig(f'{name_of_bed}.png',pdi=fig.dpi)\n",
    "#         data.to_csv(f'{name_of_bed}.csv', index=False)\n",
    "        "
   ]
  },
  {
   "cell_type": "code",
   "execution_count": 51,
   "metadata": {},
   "outputs": [],
   "source": [
    "percentile_th=[5,16,25,50,84,95]\n"
   ]
  },
  {
   "cell_type": "code",
   "execution_count": 52,
   "metadata": {
    "scrolled": false
   },
   "outputs": [
    {
     "data": {
      "image/png": "[encoded data removed]",
      "text/plain": [
       "<Figure size 864x576 with 1 Axes>"
      ]
     },
     "metadata": {},
     "output_type": "display_data"
    },
    {
     "data": {
      "image/png": "[encoded data removed]",
      "text/plain": [
       "<Figure size 864x576 with 1 Axes>"
      ]
     },
     "metadata": {},
     "output_type": "display_data"
    },
    {
     "data": {
      "image/png": "[encoded data removed]",
      "text/plain": [
       "<Figure size 864x576 with 1 Axes>"
      ]
     },
     "metadata": {},
     "output_type": "display_data"
    },
    {
     "data": {
      "image/png": "[encoded data removed]",
      "text/plain": [
       "<Figure size 864x576 with 1 Axes>"
      ]
     },
     "metadata": {},
     "output_type": "display_data"
    },
    {
     "data": {
      "image/png": "[encoded data removed]",
      "text/plain": [
       "<Figure size 864x576 with 1 Axes>"
      ]
     },
     "metadata": {},
     "output_type": "display_data"
    },
    {
     "data": {
      "image/png": "[encoded data removed]",
      "text/plain": [
       "<Figure size 864x576 with 1 Axes>"
      ]
     },
     "metadata": {},
     "output_type": "display_data"
    }
   ],
   "source": [
    "percentile_th=[5,16,25,50,75,84,95]\n",
    "\n",
    "\n",
    "cum_curve(uturu_bed_A,percentile_th,'uturu-bed-A')\n",
    "cum_curve(uturu_bed_B,percentile_th,'uturu-bed-B')\n",
    "cum_curve(uturu_bed_D,percentile_th,'uturu-bed-D')\n",
    "cum_curve(uturu_bed_E,percentile_th,'uturu-bed-E')\n",
    "cum_curve(uturu_bed_G,percentile_th,'uturu-bed-G')\n",
    "cum_curve(uturu_bed_H,percentile_th,'uturu-bed-H')"
   ]
  },
  {
   "cell_type": "code",
   "execution_count": null,
   "metadata": {},
   "outputs": [],
   "source": [
    "cum_curve(tech_bed_C,percentile_th,'Tecnical-College-Bed-C')\n",
    "cum_curve(tech_bed_E,percentile_th,'Tecnical-College-Bed-E')\n",
    "cum_curve(tech_bed_G,percentile_th,'Tecnical-College-Bed-G')"
   ]
  },
  {
   "cell_type": "code",
   "execution_count": null,
   "metadata": {},
   "outputs": [],
   "source": [
    "cum_curve(amasiri_bed_A,percentile_th,'Amasiri-SandStone-Bed-A')\n",
    "cum_curve(amasiri_bed_B,percentile_th,'Amasiri-SandStone-Bed-B')\n",
    "cum_curve(amasiri_bed_C,percentile_th,'Amasiri-SandStone-Bed-C')\n",
    "cum_curve(amasiri_bed_D,percentile_th,'Amasiri-SandStone-Bed-D')"
   ]
  },
  {
   "cell_type": "code",
   "execution_count": null,
   "metadata": {},
   "outputs": [],
   "source": []
  },
  {
   "cell_type": "code",
   "execution_count": null,
   "metadata": {},
   "outputs": [],
   "source": []
  },
  {
   "cell_type": "markdown",
   "metadata": {},
   "source": [
    "## Functions for summerizing Grain data"
   ]
  },
  {
   "cell_type": "code",
   "execution_count": 109,
   "metadata": {},
   "outputs": [],
   "source": [
    "def phi_percentiles(data,phi_percentile):\n",
    "    data['Phi_Percentiles']=phi_percentile\n",
    "    return data"
   ]
  },
  {
   "cell_type": "code",
   "execution_count": 102,
   "metadata": {},
   "outputs": [],
   "source": [
    "def graphic_mean(data):\n",
    "    \n",
    "    '''A function to calculate the graphic mean for the Data'''\n",
    "\n",
    "    \n",
    "#     percentiles = [16,50,84]\n",
    "    phi_percentile=list(data.Phi_Percentiles) \n",
    "   \n",
    "        \n",
    "    sumation=phi_percentile[1] + phi_percentile[3] + phi_percentile[5]\n",
    "     \n",
    "    \n",
    "    graphicMean= round((sumation/3),2)\n",
    "        \n",
    "    return graphicMean"
   ]
  },
  {
   "cell_type": "code",
   "execution_count": null,
   "metadata": {},
   "outputs": [],
   "source": []
  },
  {
   "cell_type": "code",
   "execution_count": 47,
   "metadata": {},
   "outputs": [],
   "source": [
    "def graphic_stand_dev(data):\n",
    "    \n",
    "    '''A function to calculate the graphic standard devietion for the Data'''\n",
    "\n",
    "#     percentiles_right = [95,5]\n",
    "#     percentiles_left = [84,16]\n",
    "    phi_percentile=list(data.Phi_Percentiles)\n",
    "    \n",
    "    \n",
    "    \n",
    "#     for i in percentiles_left:\n",
    "#         left_side.append(round(np.percentile(data.Phi_scale,i),2))\n",
    "    \n",
    "    \n",
    "#     for j in percentiles_right:\n",
    "#         right_side.append(round(np.percentile(data.Phi_scale,j),2))\n",
    "\n",
    "    left_math = phi_percentile[5] - phi_percentile[1]\n",
    "    right_math = phi_percentile[6] - phi_percentile[0]\n",
    "    \n",
    "    graphic_std = round((left_math/ 4) + (right_math/6.6),2)\n",
    "        \n",
    "    return graphic_std"
   ]
  },
  {
   "cell_type": "code",
   "execution_count": 49,
   "metadata": {},
   "outputs": [
    {
     "data": {
      "text/plain": [
       "1.65"
      ]
     },
     "execution_count": 49,
     "metadata": {},
     "output_type": "execute_result"
    }
   ],
   "source": [
    "graphic_stand_dev(uturu_bed_A)"
   ]
  },
  {
   "cell_type": "code",
   "execution_count": 89,
   "metadata": {},
   "outputs": [],
   "source": [
    "def graphic_skewness(data):\n",
    "    '''Function of the graphic_skewness'''\n",
    "    #percentiles = [5,16,50,84,95]\n",
    "    \n",
    "    \n",
    "    phi_percentile=list(data.Phi_Percentiles)\n",
    "    \n",
    "    \n",
    "    \n",
    "    \n",
    "    left_numerator = phi_percentile[5] + phi_percentile[1]- (2 * phi_percentile[3])\n",
    "    right_numerator = (phi_percentile[6] + phi_percentile[0])- (2* phi_percentile[3])\n",
    "    \n",
    "    left_denometer = 2 *(phi_percentile[5]- phi_percentile[1])\n",
    "    right_denometer = 2 *(phi_percentile[6] - phi_percentile[0])\n",
    "    graph_skew = round((left_numerator/left_denometer) + (right_numerator/right_denometer),3)\n",
    "\n",
    "\n",
    "\n",
    "    return graph_skew\n",
    "    "
   ]
  },
  {
   "cell_type": "code",
   "execution_count": 61,
   "metadata": {},
   "outputs": [
    {
     "data": {
      "text/plain": [
       "0.05"
      ]
     },
     "execution_count": 61,
     "metadata": {},
     "output_type": "execute_result"
    }
   ],
   "source": [
    "graphic_skew=graphic_skewness(uturu_bed_H)\n",
    "graphic_skew"
   ]
  },
  {
   "cell_type": "code",
   "execution_count": 62,
   "metadata": {},
   "outputs": [],
   "source": [
    "def Graphic_Kurtosis(data):\n",
    "    '''\n",
    "    This is a function for Graphic Kurtosis\n",
    "    '''\n",
    "    \n",
    "#     percentile = [5,25,75,95]\n",
    "    \n",
    "    phi_percentile=list(data.Phi_Percentiles)\n",
    "    \n",
    "    numerator = phi_percentile[6] - phi_percentile[0]\n",
    "    denumator = 2.44*(phi_percentile[4] - phi_percentile[3])\n",
    "    \n",
    "    graphic_kurtosis = round((numerator / denumator),2)\n",
    "    return graphic_kurtosis"
   ]
  },
  {
   "cell_type": "code",
   "execution_count": 63,
   "metadata": {},
   "outputs": [
    {
     "data": {
      "text/plain": [
       "1.4"
      ]
     },
     "execution_count": 63,
     "metadata": {},
     "output_type": "execute_result"
    }
   ],
   "source": [
    "Graphic_Kurtosis(uturu_bed_H)"
   ]
  },
  {
   "cell_type": "code",
   "execution_count": 76,
   "metadata": {},
   "outputs": [],
   "source": [
    "def Bed_data(name_of_bed,graphic_mean,graphic_std,graphic_skewness,graphic_kurtosis):\n",
    "    \n",
    "    name = name_of_bed\n",
    "    graphic_mean=graphic_mean\n",
    "    graphic_standard_dev=graphic_std\n",
    "    graphic_skewness = graphic_skewness\n",
    "    graphic_kurtosis= graphic_kurtosis\n",
    "    \n",
    "    bed_stat_data = pd.DataFrame({'Name_of_bed':[name],\n",
    "                      'Graphic Mean':[graphic_mean],\n",
    "                      'Graphic Standard deviation':[graphic_standard_dev],\n",
    "                       'Graphic Skewness':[graphic_skewness],\n",
    "                      'Graphic Kurtosis':[graphic_kurtosis]\n",
    "                     })\n",
    "    \n",
    "    return bed_stat_data"
   ]
  },
  {
   "cell_type": "code",
   "execution_count": 77,
   "metadata": {},
   "outputs": [],
   "source": [
    "def compelte_bed_data(bed_stat,name_of_bed,graphic_mean,graphic_std,graphic_skewness,graphic_kurtosis):\n",
    "    \n",
    "    name = name_of_bed\n",
    "    graphic_mean=graphic_mean\n",
    "    graphic_standard_dev=graphic_std\n",
    "    graphic_skewness = graphic_skewness\n",
    "    graphic_kurtosis= graphic_kurtosis\n",
    "    \n",
    "    update={'Name_of_bed':name,\n",
    "                      'Graphic Mean':graphic_mean,\n",
    "                      'Graphic Standard deviation':graphic_standard_dev,\n",
    "                       'Graphic Skewness':graphic_skewness,\n",
    "                      'Graphic Kurtosis':graphic_kurtosis\n",
    "                     }\n",
    "    bed_stat =bed_stat.append(update,ignore_index=True)\n",
    "    \n",
    "    return bed_stat\n",
    "    "
   ]
  },
  {
   "cell_type": "code",
   "execution_count": 78,
   "metadata": {},
   "outputs": [],
   "source": [
    "def save_bed_data(data,name_of_rock_unit):\n",
    "    data=data\n",
    "    name= name_of_rock_unit\n",
    "    \n",
    "    data.to_csv(f'{name}.csv')"
   ]
  },
  {
   "cell_type": "markdown",
   "metadata": {},
   "source": [
    "# Class for Grain Stats Description"
   ]
  },
  {
   "cell_type": "code",
   "execution_count": 57,
   "metadata": {},
   "outputs": [],
   "source": [
    "class GrainStatsDes():\n",
    "    def graphic_mean(data):\n",
    "    \n",
    "        '''A function to calculate the graphic mean for the Data'''\n",
    "\n",
    "    \n",
    "    #     percentiles = [16,50,84]\n",
    "        phi_percentile=list(data.Phi_Percentiles) \n",
    "   \n",
    "        \n",
    "        sumation=phi_percentile[1] + phi_percentile[3] + phi_percentile[5]\n",
    "     \n",
    "    \n",
    "        graphicMean= round((sumation/3),2)\n",
    "        \n",
    "        return graphicMean\n",
    "\n",
    "    \n",
    "    def graphic_stand_dev(data):\n",
    "    \n",
    "        '''A function to calculate the graphic standard devietion for the Data'''\n",
    "\n",
    "    #     percentiles_right = [95,5]\n",
    "    #     percentiles_left = [84,16]\n",
    "        phi_percentile=list(data.Phi_Percentiles)\n",
    "    \n",
    "    \n",
    "    \n",
    "#     for i in percentiles_left:\n",
    "#         left_side.append(round(np.percentile(data.Phi_scale,i),2))\n",
    "    \n",
    "    \n",
    "#     for j in percentiles_right:\n",
    "#         right_side.append(round(np.percentile(data.Phi_scale,j),2))\n",
    "\n",
    "        left_math = phi_percentile[5] - phi_percentile[1]\n",
    "        right_math = phi_percentile[6] - phi_percentile[0]\n",
    "    \n",
    "        graphic_std = round((left_math/ 4) + (right_math/6.6),2)\n",
    "        \n",
    "        return graphic_std\n",
    "    \n",
    "    \n",
    "    def graphic_skewness(data):\n",
    "        '''Function of the graphic_skewness'''\n",
    "        #percentiles = [5,16,50,84,95]\n",
    "    \n",
    "    \n",
    "        phi_percentile=list(data.Phi_Percentiles)\n",
    "    \n",
    "    \n",
    "    \n",
    "    \n",
    "        left_numerator = phi_percentile[5] + phi_percentile[1]- (2 * phi_percentile[3])\n",
    "        right_numerator = (phi_percentile[6] + phi_percentile[0])- (2* phi_percentile[3])\n",
    "    \n",
    "        left_denometer = 2 *(phi_percentile[5]- phi_percentile[1])\n",
    "        right_denometer = 2 *(phi_percentile[6] - phi_percentile[0])\n",
    "        graph_skew = round((left_numerator/left_denometer) + (right_numerator/right_denometer),3)\n",
    "\n",
    "\n",
    "\n",
    "        return graph_skew\n",
    "    \n",
    "    \n",
    "    \n",
    "    def Graphic_Kurtosis(data):\n",
    "        '''\n",
    "        This is a function for Graphic Kurtosis\n",
    "        '''\n",
    "    \n",
    "    #     percentile = [5,25,75,95]\n",
    "    \n",
    "        phi_percentile=list(data.Phi_Percentiles)\n",
    "    \n",
    "        numerator = phi_percentile[6] - phi_percentile[0]\n",
    "        denumator = 2.44*(phi_percentile[4] - phi_percentile[3])\n",
    "    \n",
    "        graphic_kurtosis = round((numerator / denumator),2)\n",
    "        return graphic_kurtosis\n",
    "    \n",
    "    \n",
    "    \n",
    "GrainStatsDes=GrainStatsDes"
   ]
  },
  {
   "cell_type": "code",
   "execution_count": null,
   "metadata": {},
   "outputs": [],
   "source": [
    "GrainStatsDes."
   ]
  },
  {
   "cell_type": "code",
   "execution_count": null,
   "metadata": {},
   "outputs": [],
   "source": []
  },
  {
   "cell_type": "code",
   "execution_count": null,
   "metadata": {},
   "outputs": [],
   "source": []
  },
  {
   "cell_type": "code",
   "execution_count": null,
   "metadata": {},
   "outputs": [],
   "source": []
  },
  {
   "cell_type": "code",
   "execution_count": null,
   "metadata": {},
   "outputs": [],
   "source": []
  },
  {
   "cell_type": "code",
   "execution_count": null,
   "metadata": {},
   "outputs": [],
   "source": []
  },
  {
   "cell_type": "code",
   "execution_count": null,
   "metadata": {},
   "outputs": [],
   "source": []
  },
  {
   "cell_type": "code",
   "execution_count": null,
   "metadata": {},
   "outputs": [],
   "source": []
  },
  {
   "cell_type": "code",
   "execution_count": null,
   "metadata": {},
   "outputs": [],
   "source": []
  },
  {
   "cell_type": "code",
   "execution_count": null,
   "metadata": {},
   "outputs": [],
   "source": []
  },
  {
   "cell_type": "markdown",
   "metadata": {},
   "source": [
    "##  Uturu_Bed_Data"
   ]
  },
  {
   "cell_type": "code",
   "execution_count": null,
   "metadata": {},
   "outputs": [],
   "source": []
  },
  {
   "cell_type": "code",
   "execution_count": 64,
   "metadata": {},
   "outputs": [],
   "source": [
    "graphic_mean_utr_bed_A=graphic_mean(uturu_bed_A)\n",
    "graphic_mean_utr_bed_B=graphic_mean(uturu_bed_B)\n",
    "graphic_mean_utr_bed_D=graphic_mean(uturu_bed_D)\n",
    "graphic_mean_utr_bed_E=graphic_mean(uturu_bed_E)\n",
    "graphic_mean_utr_bed_G=graphic_mean(uturu_bed_G)\n",
    "graphic_mean_utr_bed_H=graphic_mean(uturu_bed_H)"
   ]
  },
  {
   "cell_type": "code",
   "execution_count": 65,
   "metadata": {},
   "outputs": [],
   "source": [
    "\n",
    "\n",
    "graphic_std_utr_bed_A=graphic_stand_dev(uturu_bed_A)\n",
    "graphic_std_utr_bed_B=graphic_stand_dev(uturu_bed_B)\n",
    "graphic_std_utr_bed_D=graphic_stand_dev(uturu_bed_D)\n",
    "graphic_std_utr_bed_E=graphic_stand_dev(uturu_bed_E)\n",
    "graphic_std_utr_bed_G=graphic_stand_dev(uturu_bed_G)\n",
    "graphic_std_utr_bed_H=graphic_stand_dev(uturu_bed_H)"
   ]
  },
  {
   "cell_type": "code",
   "execution_count": 66,
   "metadata": {},
   "outputs": [],
   "source": [
    "\n",
    "\n",
    "graphic_skew_utr_bed_A=graphic_skewness(uturu_bed_A)\n",
    "graphic_skew_utr_bed_B=graphic_skewness(uturu_bed_B)\n",
    "graphic_skew_utr_bed_D=graphic_skewness(uturu_bed_D)\n",
    "graphic_skew_utr_bed_E=graphic_skewness(uturu_bed_E)\n",
    "graphic_skew_utr_bed_G=graphic_skewness(uturu_bed_G)\n",
    "graphic_skew_utr_bed_H=graphic_skewness(uturu_bed_H)"
   ]
  },
  {
   "cell_type": "code",
   "execution_count": 67,
   "metadata": {},
   "outputs": [],
   "source": [
    "\n",
    "\n",
    "graphic_k_utr_bed_A=Graphic_Kurtosis(uturu_bed_A)\n",
    "graphic_k_utr_bed_B=Graphic_Kurtosis(uturu_bed_B)\n",
    "graphic_k_utr_bed_D=Graphic_Kurtosis(uturu_bed_D)\n",
    "graphic_k_utr_bed_E=Graphic_Kurtosis(uturu_bed_E)\n",
    "graphic_k_utr_bed_G=Graphic_Kurtosis(uturu_bed_G)\n",
    "graphic_k_utr_bed_H=Graphic_Kurtosis(uturu_bed_H)"
   ]
  },
  {
   "cell_type": "code",
   "execution_count": 68,
   "metadata": {},
   "outputs": [
    {
     "data": {
      "text/plain": [
       "1.38"
      ]
     },
     "execution_count": 68,
     "metadata": {},
     "output_type": "execute_result"
    }
   ],
   "source": [
    "graphic_k_utr_bed_G"
   ]
  },
  {
   "cell_type": "code",
   "execution_count": 69,
   "metadata": {},
   "outputs": [],
   "source": [
    "name_of_bed = 'Uturu_bed_A'\n"
   ]
  },
  {
   "cell_type": "code",
   "execution_count": 71,
   "metadata": {},
   "outputs": [
    {
     "data": {
      "text/html": [
       "<div>\n",
       "<style scoped>\n",
       "    .dataframe tbody tr th:only-of-type {\n",
       "        vertical-align: middle;\n",
       "    }\n",
       "\n",
       "    .dataframe tbody tr th {\n",
       "        vertical-align: top;\n",
       "    }\n",
       "\n",
       "    .dataframe thead th {\n",
       "        text-align: right;\n",
       "    }\n",
       "</style>\n",
       "<table border=\"1\" class=\"dataframe\">\n",
       "  <thead>\n",
       "    <tr style=\"text-align: right;\">\n",
       "      <th></th>\n",
       "      <th>Name_of_bed</th>\n",
       "      <th>Graphic Mean</th>\n",
       "      <th>Graphic Standard deviation</th>\n",
       "      <th>Graphic Skewness</th>\n",
       "      <th>Graphic Kurtosis</th>\n",
       "    </tr>\n",
       "  </thead>\n",
       "  <tbody>\n",
       "    <tr>\n",
       "      <th>0</th>\n",
       "      <td>Uturu_bed_A</td>\n",
       "      <td>1.63</td>\n",
       "      <td>1.65</td>\n",
       "      <td>0.07</td>\n",
       "      <td>1.36</td>\n",
       "    </tr>\n",
       "  </tbody>\n",
       "</table>\n",
       "</div>"
      ],
      "text/plain": [
       "   Name_of_bed  Graphic Mean  Graphic Standard deviation  Graphic Skewness  \\\n",
       "0  Uturu_bed_A          1.63                        1.65              0.07   \n",
       "\n",
       "   Graphic Kurtosis  \n",
       "0              1.36  "
      ]
     },
     "execution_count": 71,
     "metadata": {},
     "output_type": "execute_result"
    }
   ],
   "source": [
    "bed_stat = Bed_data(name_of_bed,graphic_mean_utr_bed_A,graphic_std_utr_bed_A,graphic_skew_utr_bed_A,graphic_k_utr_bed_A)\n",
    "\n",
    "bed_stat"
   ]
  },
  {
   "cell_type": "code",
   "execution_count": 73,
   "metadata": {
    "scrolled": true
   },
   "outputs": [
    {
     "data": {
      "text/html": [
       "<div>\n",
       "<style scoped>\n",
       "    .dataframe tbody tr th:only-of-type {\n",
       "        vertical-align: middle;\n",
       "    }\n",
       "\n",
       "    .dataframe tbody tr th {\n",
       "        vertical-align: top;\n",
       "    }\n",
       "\n",
       "    .dataframe thead th {\n",
       "        text-align: right;\n",
       "    }\n",
       "</style>\n",
       "<table border=\"1\" class=\"dataframe\">\n",
       "  <thead>\n",
       "    <tr style=\"text-align: right;\">\n",
       "      <th></th>\n",
       "      <th>Name_of_bed</th>\n",
       "      <th>Graphic Mean</th>\n",
       "      <th>Graphic Standard deviation</th>\n",
       "      <th>Graphic Skewness</th>\n",
       "      <th>Graphic Kurtosis</th>\n",
       "    </tr>\n",
       "  </thead>\n",
       "  <tbody>\n",
       "    <tr>\n",
       "      <th>0</th>\n",
       "      <td>Uturu_bed_A</td>\n",
       "      <td>1.63</td>\n",
       "      <td>1.65</td>\n",
       "      <td>0.07</td>\n",
       "      <td>1.36</td>\n",
       "    </tr>\n",
       "    <tr>\n",
       "      <th>1</th>\n",
       "      <td>Uturu_bed_B</td>\n",
       "      <td>1.63</td>\n",
       "      <td>1.65</td>\n",
       "      <td>0.05</td>\n",
       "      <td>1.26</td>\n",
       "    </tr>\n",
       "    <tr>\n",
       "      <th>2</th>\n",
       "      <td>Uturu_bed_D</td>\n",
       "      <td>1.65</td>\n",
       "      <td>1.68</td>\n",
       "      <td>0.10</td>\n",
       "      <td>1.31</td>\n",
       "    </tr>\n",
       "    <tr>\n",
       "      <th>3</th>\n",
       "      <td>Uturu_bed_E</td>\n",
       "      <td>1.62</td>\n",
       "      <td>1.66</td>\n",
       "      <td>0.09</td>\n",
       "      <td>1.33</td>\n",
       "    </tr>\n",
       "    <tr>\n",
       "      <th>4</th>\n",
       "      <td>Uturu_bed_G</td>\n",
       "      <td>1.63</td>\n",
       "      <td>1.66</td>\n",
       "      <td>0.06</td>\n",
       "      <td>1.38</td>\n",
       "    </tr>\n",
       "    <tr>\n",
       "      <th>5</th>\n",
       "      <td>Uturu_bed_H</td>\n",
       "      <td>1.63</td>\n",
       "      <td>1.65</td>\n",
       "      <td>0.05</td>\n",
       "      <td>1.40</td>\n",
       "    </tr>\n",
       "  </tbody>\n",
       "</table>\n",
       "</div>"
      ],
      "text/plain": [
       "   Name_of_bed  Graphic Mean  Graphic Standard deviation  Graphic Skewness  \\\n",
       "0  Uturu_bed_A          1.63                        1.65              0.07   \n",
       "1  Uturu_bed_B          1.63                        1.65              0.05   \n",
       "2  Uturu_bed_D          1.65                        1.68              0.10   \n",
       "3  Uturu_bed_E          1.62                        1.66              0.09   \n",
       "4  Uturu_bed_G          1.63                        1.66              0.06   \n",
       "5  Uturu_bed_H          1.63                        1.65              0.05   \n",
       "\n",
       "   Graphic Kurtosis  \n",
       "0              1.36  \n",
       "1              1.26  \n",
       "2              1.31  \n",
       "3              1.33  \n",
       "4              1.38  \n",
       "5              1.40  "
      ]
     },
     "execution_count": 73,
     "metadata": {},
     "output_type": "execute_result"
    }
   ],
   "source": [
    "data=compelte_bed_data(bed_stat,'Uturu_bed_B',graphic_mean_utr_bed_B,graphic_std_utr_bed_B,graphic_skew_utr_bed_B,graphic_k_utr_bed_B)\n",
    "data=compelte_bed_data(data,'Uturu_bed_D',graphic_mean_utr_bed_D,graphic_std_utr_bed_D,graphic_skew_utr_bed_D,graphic_k_utr_bed_D)\n",
    "data=compelte_bed_data(data,'Uturu_bed_E',graphic_mean_utr_bed_E,graphic_std_utr_bed_E,graphic_skew_utr_bed_E,graphic_k_utr_bed_E)\n",
    "data=compelte_bed_data(data,'Uturu_bed_G',graphic_mean_utr_bed_G,graphic_std_utr_bed_G,graphic_skew_utr_bed_G,graphic_k_utr_bed_G)\n",
    "data=compelte_bed_data(data,'Uturu_bed_H',graphic_mean_utr_bed_H,graphic_std_utr_bed_H,graphic_skew_utr_bed_H,graphic_k_utr_bed_H)\n",
    "\n",
    "data"
   ]
  },
  {
   "cell_type": "code",
   "execution_count": 75,
   "metadata": {},
   "outputs": [],
   "source": [
    "save_bed_data(data,'Uturu_beds')"
   ]
  },
  {
   "cell_type": "code",
   "execution_count": null,
   "metadata": {},
   "outputs": [],
   "source": []
  },
  {
   "cell_type": "markdown",
   "metadata": {},
   "source": [
    "## Technical college beds \n",
    "\n"
   ]
  },
  {
   "cell_type": "code",
   "execution_count": 79,
   "metadata": {},
   "outputs": [],
   "source": [
    "graphic_mean_tech_bed_C=graphic_mean(tech_bed_C)\n",
    "\n",
    "graphic_mean_tech_bed_E=graphic_mean(tech_bed_E)\n",
    "graphic_mean_tech_bed_G=graphic_mean(tech_bed_G)\n"
   ]
  },
  {
   "cell_type": "code",
   "execution_count": 80,
   "metadata": {},
   "outputs": [],
   "source": [
    "\n",
    "graphic_std_tech_bed_C=graphic_stand_dev(tech_bed_C)\n",
    "graphic_std_tech_bed_E=graphic_stand_dev(tech_bed_E)\n",
    "graphic_std_tech_bed_G=graphic_stand_dev(tech_bed_G)\n"
   ]
  },
  {
   "cell_type": "code",
   "execution_count": 92,
   "metadata": {},
   "outputs": [
    {
     "data": {
      "text/plain": [
       "-0.004"
      ]
     },
     "execution_count": 92,
     "metadata": {},
     "output_type": "execute_result"
    }
   ],
   "source": [
    "\n",
    "graphic_skew_tech_bed_C=graphic_skewness(tech_bed_C)\n",
    "graphic_skew_tech_bed_E=graphic_skewness(tech_bed_E)\n",
    "graphic_skew_tech_bed_G=graphic_skewness(tech_bed_G)\n",
    "\n",
    "graphic_skew_tech_bed_E\n"
   ]
  },
  {
   "cell_type": "code",
   "execution_count": 82,
   "metadata": {},
   "outputs": [],
   "source": [
    "\n",
    "graphic_k_tech_bed_C=Graphic_Kurtosis(tech_bed_C)\n",
    "graphic_k_tech_bed_E=Graphic_Kurtosis(tech_bed_E)\n",
    "graphic_k_tech_bed_G=Graphic_Kurtosis(tech_bed_G)\n",
    "\n",
    "\n"
   ]
  },
  {
   "cell_type": "code",
   "execution_count": 85,
   "metadata": {},
   "outputs": [
    {
     "data": {
      "text/html": [
       "<div>\n",
       "<style scoped>\n",
       "    .dataframe tbody tr th:only-of-type {\n",
       "        vertical-align: middle;\n",
       "    }\n",
       "\n",
       "    .dataframe tbody tr th {\n",
       "        vertical-align: top;\n",
       "    }\n",
       "\n",
       "    .dataframe thead th {\n",
       "        text-align: right;\n",
       "    }\n",
       "</style>\n",
       "<table border=\"1\" class=\"dataframe\">\n",
       "  <thead>\n",
       "    <tr style=\"text-align: right;\">\n",
       "      <th></th>\n",
       "      <th>Name_of_bed</th>\n",
       "      <th>Graphic Mean</th>\n",
       "      <th>Graphic Standard deviation</th>\n",
       "      <th>Graphic Skewness</th>\n",
       "      <th>Graphic Kurtosis</th>\n",
       "    </tr>\n",
       "  </thead>\n",
       "  <tbody>\n",
       "    <tr>\n",
       "      <th>0</th>\n",
       "      <td>Tech_bed_C</td>\n",
       "      <td>1.65</td>\n",
       "      <td>1.65</td>\n",
       "      <td>0.07</td>\n",
       "      <td>1.38</td>\n",
       "    </tr>\n",
       "  </tbody>\n",
       "</table>\n",
       "</div>"
      ],
      "text/plain": [
       "  Name_of_bed  Graphic Mean  Graphic Standard deviation  Graphic Skewness  \\\n",
       "0  Tech_bed_C          1.65                        1.65              0.07   \n",
       "\n",
       "   Graphic Kurtosis  \n",
       "0              1.38  "
      ]
     },
     "execution_count": 85,
     "metadata": {},
     "output_type": "execute_result"
    }
   ],
   "source": [
    "bed_stat = Bed_data('Tech_bed_C',graphic_mean_tech_bed_C,graphic_std_tech_bed_C,graphic_skew_tech_bed_C,graphic_k_tech_bed_C)\n",
    "\n",
    "bed_stat"
   ]
  },
  {
   "cell_type": "code",
   "execution_count": 93,
   "metadata": {},
   "outputs": [
    {
     "data": {
      "text/html": [
       "<div>\n",
       "<style scoped>\n",
       "    .dataframe tbody tr th:only-of-type {\n",
       "        vertical-align: middle;\n",
       "    }\n",
       "\n",
       "    .dataframe tbody tr th {\n",
       "        vertical-align: top;\n",
       "    }\n",
       "\n",
       "    .dataframe thead th {\n",
       "        text-align: right;\n",
       "    }\n",
       "</style>\n",
       "<table border=\"1\" class=\"dataframe\">\n",
       "  <thead>\n",
       "    <tr style=\"text-align: right;\">\n",
       "      <th></th>\n",
       "      <th>Name_of_bed</th>\n",
       "      <th>Graphic Mean</th>\n",
       "      <th>Graphic Standard deviation</th>\n",
       "      <th>Graphic Skewness</th>\n",
       "      <th>Graphic Kurtosis</th>\n",
       "    </tr>\n",
       "  </thead>\n",
       "  <tbody>\n",
       "    <tr>\n",
       "      <th>0</th>\n",
       "      <td>Tech_bed_C</td>\n",
       "      <td>1.65</td>\n",
       "      <td>1.65</td>\n",
       "      <td>0.070</td>\n",
       "      <td>1.38</td>\n",
       "    </tr>\n",
       "    <tr>\n",
       "      <th>1</th>\n",
       "      <td>Tech_bed_E</td>\n",
       "      <td>1.72</td>\n",
       "      <td>1.67</td>\n",
       "      <td>-0.004</td>\n",
       "      <td>1.93</td>\n",
       "    </tr>\n",
       "    <tr>\n",
       "      <th>2</th>\n",
       "      <td>Tech_bed_G</td>\n",
       "      <td>1.62</td>\n",
       "      <td>1.65</td>\n",
       "      <td>0.098</td>\n",
       "      <td>1.30</td>\n",
       "    </tr>\n",
       "  </tbody>\n",
       "</table>\n",
       "</div>"
      ],
      "text/plain": [
       "  Name_of_bed  Graphic Mean  Graphic Standard deviation  Graphic Skewness  \\\n",
       "0  Tech_bed_C          1.65                        1.65             0.070   \n",
       "1  Tech_bed_E          1.72                        1.67            -0.004   \n",
       "2  Tech_bed_G          1.62                        1.65             0.098   \n",
       "\n",
       "   Graphic Kurtosis  \n",
       "0              1.38  \n",
       "1              1.93  \n",
       "2              1.30  "
      ]
     },
     "execution_count": 93,
     "metadata": {},
     "output_type": "execute_result"
    }
   ],
   "source": [
    "data=compelte_bed_data(bed_stat,'Tech_bed_E',graphic_mean_tech_bed_E,graphic_std_tech_bed_E,graphic_skew_tech_bed_E,graphic_k_tech_bed_E)\n",
    "\n",
    "data=compelte_bed_data(data,'Tech_bed_G',graphic_mean_tech_bed_G,graphic_std_tech_bed_G,graphic_skew_tech_bed_G,graphic_k_tech_bed_G)\n",
    "\n",
    "\n",
    "data"
   ]
  },
  {
   "cell_type": "code",
   "execution_count": 94,
   "metadata": {},
   "outputs": [],
   "source": [
    "save_bed_data(data,'Technical_college_Beds')"
   ]
  },
  {
   "cell_type": "markdown",
   "metadata": {},
   "source": [
    "## Amasiri Beds "
   ]
  },
  {
   "cell_type": "code",
   "execution_count": 95,
   "metadata": {},
   "outputs": [],
   "source": [
    "graphic_mean_amasiri_bed_A=graphic_mean(amasiri_bed_A)\n",
    "\n",
    "graphic_mean_amasiri_bed_B=graphic_mean(amasiri_bed_B)\n",
    "graphic_mean_amasiri_bed_C=graphic_mean(amasiri_bed_C)\n",
    "graphic_mean_amasiri_bed_D=graphic_mean(amasiri_bed_D)\n"
   ]
  },
  {
   "cell_type": "code",
   "execution_count": 96,
   "metadata": {},
   "outputs": [],
   "source": [
    "\n",
    "graphic_std_amasiri_bed_A=graphic_stand_dev(amasiri_bed_A)\n",
    "graphic_std_amasiri_bed_B=graphic_stand_dev(amasiri_bed_B)\n",
    "graphic_std_amasiri_bed_C=graphic_stand_dev(amasiri_bed_C)\n",
    "graphic_std_amasiri_bed_D=graphic_stand_dev(amasiri_bed_D)\n"
   ]
  },
  {
   "cell_type": "code",
   "execution_count": 97,
   "metadata": {},
   "outputs": [],
   "source": [
    "\n",
    "graphic_skew_amasiri_bed_A=graphic_skewness(amasiri_bed_A)\n",
    "graphic_skew_amasiri_bed_B=graphic_skewness(amasiri_bed_B)\n",
    "graphic_skew_amasiri_bed_C=graphic_skewness(amasiri_bed_C)\n",
    "graphic_skew_amasiri_bed_D=graphic_skewness(amasiri_bed_D)\n",
    "\n"
   ]
  },
  {
   "cell_type": "code",
   "execution_count": 98,
   "metadata": {},
   "outputs": [],
   "source": [
    "\n",
    "graphic_k_amasiri_bed_A=Graphic_Kurtosis(amasiri_bed_A)\n",
    "graphic_k_amasiri_bed_B=Graphic_Kurtosis(amasiri_bed_B)\n",
    "graphic_k_amasiri_bed_C=Graphic_Kurtosis(amasiri_bed_C)\n",
    "graphic_k_amasiri_bed_D=Graphic_Kurtosis(amasiri_bed_D)\n",
    "\n",
    "\n"
   ]
  },
  {
   "cell_type": "code",
   "execution_count": 99,
   "metadata": {},
   "outputs": [
    {
     "data": {
      "text/html": [
       "<div>\n",
       "<style scoped>\n",
       "    .dataframe tbody tr th:only-of-type {\n",
       "        vertical-align: middle;\n",
       "    }\n",
       "\n",
       "    .dataframe tbody tr th {\n",
       "        vertical-align: top;\n",
       "    }\n",
       "\n",
       "    .dataframe thead th {\n",
       "        text-align: right;\n",
       "    }\n",
       "</style>\n",
       "<table border=\"1\" class=\"dataframe\">\n",
       "  <thead>\n",
       "    <tr style=\"text-align: right;\">\n",
       "      <th></th>\n",
       "      <th>Name_of_bed</th>\n",
       "      <th>Graphic Mean</th>\n",
       "      <th>Graphic Standard deviation</th>\n",
       "      <th>Graphic Skewness</th>\n",
       "      <th>Graphic Kurtosis</th>\n",
       "    </tr>\n",
       "  </thead>\n",
       "  <tbody>\n",
       "    <tr>\n",
       "      <th>0</th>\n",
       "      <td>Amasiri_bed_A</td>\n",
       "      <td>1.48</td>\n",
       "      <td>1.51</td>\n",
       "      <td>0.02</td>\n",
       "      <td>1.15</td>\n",
       "    </tr>\n",
       "  </tbody>\n",
       "</table>\n",
       "</div>"
      ],
      "text/plain": [
       "     Name_of_bed  Graphic Mean  Graphic Standard deviation  Graphic Skewness  \\\n",
       "0  Amasiri_bed_A          1.48                        1.51              0.02   \n",
       "\n",
       "   Graphic Kurtosis  \n",
       "0              1.15  "
      ]
     },
     "execution_count": 99,
     "metadata": {},
     "output_type": "execute_result"
    }
   ],
   "source": [
    "bed_stat = Bed_data('Amasiri_bed_A',graphic_mean_amasiri_bed_A,graphic_std_amasiri_bed_A,graphic_skew_amasiri_bed_A,graphic_k_amasiri_bed_A)\n",
    "\n",
    "bed_stat"
   ]
  },
  {
   "cell_type": "code",
   "execution_count": 100,
   "metadata": {},
   "outputs": [
    {
     "data": {
      "text/html": [
       "<div>\n",
       "<style scoped>\n",
       "    .dataframe tbody tr th:only-of-type {\n",
       "        vertical-align: middle;\n",
       "    }\n",
       "\n",
       "    .dataframe tbody tr th {\n",
       "        vertical-align: top;\n",
       "    }\n",
       "\n",
       "    .dataframe thead th {\n",
       "        text-align: right;\n",
       "    }\n",
       "</style>\n",
       "<table border=\"1\" class=\"dataframe\">\n",
       "  <thead>\n",
       "    <tr style=\"text-align: right;\">\n",
       "      <th></th>\n",
       "      <th>Name_of_bed</th>\n",
       "      <th>Graphic Mean</th>\n",
       "      <th>Graphic Standard deviation</th>\n",
       "      <th>Graphic Skewness</th>\n",
       "      <th>Graphic Kurtosis</th>\n",
       "    </tr>\n",
       "  </thead>\n",
       "  <tbody>\n",
       "    <tr>\n",
       "      <th>0</th>\n",
       "      <td>Amasiri_bed_A</td>\n",
       "      <td>1.48</td>\n",
       "      <td>1.51</td>\n",
       "      <td>0.020</td>\n",
       "      <td>1.15</td>\n",
       "    </tr>\n",
       "    <tr>\n",
       "      <th>1</th>\n",
       "      <td>Amasiri_Bed_B</td>\n",
       "      <td>1.65</td>\n",
       "      <td>1.66</td>\n",
       "      <td>0.093</td>\n",
       "      <td>1.38</td>\n",
       "    </tr>\n",
       "    <tr>\n",
       "      <th>2</th>\n",
       "      <td>Amasiri_bed_C</td>\n",
       "      <td>1.63</td>\n",
       "      <td>1.64</td>\n",
       "      <td>0.058</td>\n",
       "      <td>1.86</td>\n",
       "    </tr>\n",
       "    <tr>\n",
       "      <th>3</th>\n",
       "      <td>Amasiri_bed_D</td>\n",
       "      <td>1.62</td>\n",
       "      <td>1.58</td>\n",
       "      <td>0.081</td>\n",
       "      <td>1.27</td>\n",
       "    </tr>\n",
       "  </tbody>\n",
       "</table>\n",
       "</div>"
      ],
      "text/plain": [
       "     Name_of_bed  Graphic Mean  Graphic Standard deviation  Graphic Skewness  \\\n",
       "0  Amasiri_bed_A          1.48                        1.51             0.020   \n",
       "1  Amasiri_Bed_B          1.65                        1.66             0.093   \n",
       "2  Amasiri_bed_C          1.63                        1.64             0.058   \n",
       "3  Amasiri_bed_D          1.62                        1.58             0.081   \n",
       "\n",
       "   Graphic Kurtosis  \n",
       "0              1.15  \n",
       "1              1.38  \n",
       "2              1.86  \n",
       "3              1.27  "
      ]
     },
     "execution_count": 100,
     "metadata": {},
     "output_type": "execute_result"
    }
   ],
   "source": [
    "data=compelte_bed_data(bed_stat,'Amasiri_Bed_B',graphic_mean_amasiri_bed_B,graphic_std_amasiri_bed_B,graphic_skew_amasiri_bed_B,graphic_k_amasiri_bed_B)\n",
    "\n",
    "data=compelte_bed_data(data,'Amasiri_bed_C',graphic_mean_amasiri_bed_C,graphic_std_amasiri_bed_C,graphic_skew_amasiri_bed_C,graphic_k_amasiri_bed_C)\n",
    "data = compelte_bed_data(data,'Amasiri_bed_D',graphic_mean_amasiri_bed_D,graphic_std_amasiri_bed_D,graphic_skew_amasiri_bed_D,graphic_k_amasiri_bed_D)\n",
    "\n",
    "\n",
    "data"
   ]
  },
  {
   "cell_type": "code",
   "execution_count": 101,
   "metadata": {},
   "outputs": [],
   "source": [
    "save_bed_data(data,'Amasiri_Beds')"
   ]
  },
  {
   "cell_type": "code",
   "execution_count": null,
   "metadata": {},
   "outputs": [],
   "source": []
  },
  {
   "cell_type": "code",
   "execution_count": null,
   "metadata": {},
   "outputs": [],
   "source": []
  },
  {
   "cell_type": "code",
   "execution_count": null,
   "metadata": {},
   "outputs": [],
   "source": []
  },
  {
   "cell_type": "code",
   "execution_count": null,
   "metadata": {},
   "outputs": [],
   "source": []
  },
  {
   "cell_type": "code",
   "execution_count": null,
   "metadata": {},
   "outputs": [],
   "source": []
  },
  {
   "cell_type": "code",
   "execution_count": null,
   "metadata": {},
   "outputs": [],
   "source": []
  },
  {
   "cell_type": "code",
   "execution_count": null,
   "metadata": {},
   "outputs": [],
   "source": []
  },
  {
   "cell_type": "code",
   "execution_count": null,
   "metadata": {},
   "outputs": [],
   "source": []
  },
  {
   "cell_type": "code",
   "execution_count": null,
   "metadata": {},
   "outputs": [],
   "source": []
  },
  {
   "cell_type": "code",
   "execution_count": 39,
   "metadata": {},
   "outputs": [],
   "source": [
    "#TO create a function for navigating Working and create directories for the rocks \n",
    "\n",
    "\n",
    "\n",
    "import os \n",
    "\n",
    "\n",
    "def rock_sample_directory():\n",
    "    print(os.getcwd())\n"
   ]
  },
  {
   "cell_type": "code",
   "execution_count": null,
   "metadata": {},
   "outputs": [],
   "source": [
    "{'Name_of_bed':[name],\n",
    "                      'Graphic Mean':[graphic_mean_bed_B],\n",
    "                      'Graphic Standard deviation':[graphic_std_bed_B],\n",
    "                       'Graphic Skewness':[graphic_skew_utr_bed_B],\n",
    "                      'Graphic Kurtosis':[graphic_k_utr_bed_B]\n",
    "                     })"
   ]
  },
  {
   "cell_type": "code",
   "execution_count": null,
   "metadata": {},
   "outputs": [],
   "source": []
  },
  {
   "cell_type": "code",
   "execution_count": null,
   "metadata": {},
   "outputs": [],
   "source": [
    "rock_sample_directory()"
   ]
  },
  {
   "cell_type": "code",
   "execution_count": null,
   "metadata": {},
   "outputs": [],
   "source": [
    "# def rock_dir(name):\n",
    "#     name=name\n",
    "#     path= os.path.join(os.getcwd(),name)\n",
    "#     if os.path.exists(path) & os.path.isdir(path):\n",
    "#         print(path, ':exists and it is a directory')\n",
    "#         os.chdir(path)\n",
    "#         print(os.getcwd())\n",
    "#     else:\n",
    "#          os.mkdir(path)\n",
    "#     os.chdir(path)\n",
    "#     #changing working directory\n",
    "#     print(os.getcwd())"
   ]
  },
  {
   "cell_type": "code",
   "execution_count": null,
   "metadata": {},
   "outputs": [],
   "source": [
    "#new=rock_dir('Uturu_Sandstone')\n",
    "\n"
   ]
  },
  {
   "cell_type": "code",
   "execution_count": null,
   "metadata": {},
   "outputs": [],
   "source": [
    "#rock_sample_directory()"
   ]
  },
  {
   "cell_type": "code",
   "execution_count": 40,
   "metadata": {},
   "outputs": [
    {
     "data": {
      "text/html": [
       "<div>\n",
       "<style scoped>\n",
       "    .dataframe tbody tr th:only-of-type {\n",
       "        vertical-align: middle;\n",
       "    }\n",
       "\n",
       "    .dataframe tbody tr th {\n",
       "        vertical-align: top;\n",
       "    }\n",
       "\n",
       "    .dataframe thead th {\n",
       "        text-align: right;\n",
       "    }\n",
       "</style>\n",
       "<table border=\"1\" class=\"dataframe\">\n",
       "  <thead>\n",
       "    <tr style=\"text-align: right;\">\n",
       "      <th></th>\n",
       "      <th>Phi_scale</th>\n",
       "      <th>Bed_thickness</th>\n",
       "      <th>Percentiles</th>\n",
       "      <th>Percentile_Passings</th>\n",
       "      <th>Phi_percentile</th>\n",
       "    </tr>\n",
       "  </thead>\n",
       "  <tbody>\n",
       "    <tr>\n",
       "      <th>0</th>\n",
       "      <td>-1.00</td>\n",
       "      <td>0.60</td>\n",
       "      <td>5%</td>\n",
       "      <td>2.00</td>\n",
       "      <td>-0.73</td>\n",
       "    </tr>\n",
       "    <tr>\n",
       "      <th>1</th>\n",
       "      <td>-0.24</td>\n",
       "      <td>4.60</td>\n",
       "      <td>16%</td>\n",
       "      <td>5.56</td>\n",
       "      <td>-0.18</td>\n",
       "    </tr>\n",
       "    <tr>\n",
       "      <th>2</th>\n",
       "      <td>0.23</td>\n",
       "      <td>12.59</td>\n",
       "      <td>25%</td>\n",
       "      <td>10.59</td>\n",
       "      <td>0.11</td>\n",
       "    </tr>\n",
       "    <tr>\n",
       "      <th>3</th>\n",
       "      <td>1.23</td>\n",
       "      <td>58.44</td>\n",
       "      <td>50%</td>\n",
       "      <td>71.12</td>\n",
       "      <td>1.48</td>\n",
       "    </tr>\n",
       "    <tr>\n",
       "      <th>4</th>\n",
       "      <td>1.74</td>\n",
       "      <td>83.81</td>\n",
       "      <td>75%</td>\n",
       "      <td>96.30</td>\n",
       "      <td>2.99</td>\n",
       "    </tr>\n",
       "    <tr>\n",
       "      <th>5</th>\n",
       "      <td>2.74</td>\n",
       "      <td>95.20</td>\n",
       "      <td>84%</td>\n",
       "      <td>99.07</td>\n",
       "      <td>3.62</td>\n",
       "    </tr>\n",
       "    <tr>\n",
       "      <th>6</th>\n",
       "      <td>3.74</td>\n",
       "      <td>99.60</td>\n",
       "      <td>95%</td>\n",
       "      <td>99.86</td>\n",
       "      <td>3.90</td>\n",
       "    </tr>\n",
       "    <tr>\n",
       "      <th>7</th>\n",
       "      <td>3.99</td>\n",
       "      <td>100.00</td>\n",
       "      <td>99.9%</td>\n",
       "      <td>100.00</td>\n",
       "      <td>3.99</td>\n",
       "    </tr>\n",
       "  </tbody>\n",
       "</table>\n",
       "</div>"
      ],
      "text/plain": [
       "   Phi_scale  Bed_thickness Percentiles  Percentile_Passings  Phi_percentile\n",
       "0      -1.00           0.60          5%                 2.00           -0.73\n",
       "1      -0.24           4.60         16%                 5.56           -0.18\n",
       "2       0.23          12.59         25%                10.59            0.11\n",
       "3       1.23          58.44         50%                71.12            1.48\n",
       "4       1.74          83.81         75%                96.30            2.99\n",
       "5       2.74          95.20         84%                99.07            3.62\n",
       "6       3.74          99.60         95%                99.86            3.90\n",
       "7       3.99         100.00       99.9%               100.00            3.99"
      ]
     },
     "execution_count": 40,
     "metadata": {},
     "output_type": "execute_result"
    }
   ],
   "source": [
    "bed= pd.read_csv('./Uturu_Sandstone/uturu-bed-H.csv')\n",
    "\n",
    "bed"
   ]
  },
  {
   "cell_type": "code",
   "execution_count": null,
   "metadata": {},
   "outputs": [],
   "source": [
    "bed.describe()"
   ]
  },
  {
   "cell_type": "code",
   "execution_count": null,
   "metadata": {},
   "outputs": [],
   "source": [
    "plt.plot()"
   ]
  },
  {
   "cell_type": "code",
   "execution_count": null,
   "metadata": {},
   "outputs": [],
   "source": []
  }
 ],
 "metadata": {
  "kernelspec": {
   "display_name": "Python 3",
   "language": "python",
   "name": "python3"
  },
  "language_info": {
   "codemirror_mode": {
    "name": "ipython",
    "version": 3
   },
   "file_extension": ".py",
   "mimetype": "text/x-python",
   "name": "python",
   "nbconvert_exporter": "python",
   "pygments_lexer": "ipython3",
   "version": "3.7.6"
  }
 },
 "nbformat": 4,
 "nbformat_minor": 4
}
